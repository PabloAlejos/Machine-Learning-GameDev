{
 "cells": [
  {
   "cell_type": "markdown",
   "metadata": {},
   "source": [
    "## Test Neuroevolución"
   ]
  },
  {
   "cell_type": "code",
   "execution_count": 1,
   "metadata": {
    "collapsed": true
   },
   "outputs": [],
   "source": [
    "%matplotlib inline\n",
    "import os\n",
    "import numpy as np\n",
    "import matplotlib.pyplot as plt\n",
    "from sklearn.neural_network import MLPClassifier\n",
    "import pandas as pd\n",
    "from sklearn.preprocessing import StandardScaler  "
   ]
  },
  {
   "cell_type": "code",
   "execution_count": 2,
   "metadata": {
    "collapsed": false
   },
   "outputs": [],
   "source": [
    "from deap import algorithms\n",
    "from deap import base\n",
    "from deap import creator\n",
    "from deap import tools\n",
    "import random\n",
    "import pickle\n",
    "from copy import deepcopy\n",
    "from sklearn import preprocessing"
   ]
  },
  {
   "cell_type": "markdown",
   "metadata": {},
   "source": [
    "Importación del scaler\n",
    "http://scikit-learn.org/stable/modules/generated/sklearn.preprocessing.StandardScaler.html"
   ]
  },
  {
   "cell_type": "markdown",
   "metadata": {},
   "source": [
    "### Cargo los datos y retiro el Timestamp y el score"
   ]
  },
  {
   "cell_type": "code",
   "execution_count": 4,
   "metadata": {
    "collapsed": false
   },
   "outputs": [],
   "source": [
    "df = pd.read_csv(\"gameStates.csv\", sep=',', header=None)\n",
    "df.columns = ['timeStamp','Px', 'Py', 'heat', 'Exp1','Eyp1','Exp2','Eyp2', 'Ex1', 'Ey1', 'Eh1', 'Ex2', 'Ey2', 'Eh2', 'Ex3', 'Ey3', 'Eh3', 'Ex4', 'Ey4','Eh4','Ex5', 'Ey5','Eh5','Ex6', 'Ey6','Eh6','ray1','ray2','ray3','ray4','ray5','ray6','ray7','ray8','ray9','ray10','ray11','ray12','ray13','ray14','ray15','ray16','ray17','ray18','ray19','ray20','ray21','ray22','ray23','ray24','ray25','ray26','ray27','score',\"VKey\",\"HKey\",\"Shooting\"]\n",
    "df.drop(['timeStamp','score', 'Ex1', 'Ey1', 'Eh1', 'Ex2', 'Ey2', 'Eh2', 'Ex3', 'Ey3', 'Eh3', 'Ex4', 'Ey4','Eh4','Ex5', 'Ey5','Eh5','Ex6', 'Ey6','Eh6'],axis=1,inplace=True)\n",
    "df = df[1:6001]\n"
   ]
  },
  {
   "cell_type": "markdown",
   "metadata": {},
   "source": [
    "#### Transforma el porblema multioputput en multilabel"
   ]
  },
  {
   "cell_type": "code",
   "execution_count": 5,
   "metadata": {
    "collapsed": false
   },
   "outputs": [],
   "source": [
    "def multioutput2multilabel(row):\n",
    "    values = pd.Series([(row[\"VKey\"] == \"UpArrow\"),(row[\"VKey\"] == \"DownArrow\"),(row[\"HKey\"] == \"LeftArrow\"),(row[\"HKey\"] == \"RightArrow\"),row[\"Shooting\"]])\n",
    "    return pd.concat([row[:len(row)-3], values.astype(float)])\n"
   ]
  },
  {
   "cell_type": "code",
   "execution_count": 6,
   "metadata": {
    "collapsed": false
   },
   "outputs": [
    {
     "data": {
      "text/plain": [
       "39"
      ]
     },
     "execution_count": 6,
     "metadata": {},
     "output_type": "execute_result"
    }
   ],
   "source": [
    "def concatenar_estados(dataframe):\n",
    "        dfAnterior = dataframe.shift(1)\n",
    "        dfAnterior.rename(columns=lambda x: str(x)+\"-1\", inplace=True)\n",
    "        dfAnterior2 = dataframe.shift(2)\n",
    "        dfAnterior2.rename(columns=lambda x: str(x)+\"-2\", inplace=True)\n",
    "        dfAnterior3 = dataframe.shift(3)\n",
    "        dfAnterior3.rename(columns=lambda x: str(x)+\"-3\", inplace=True)\n",
    "        df = pd.concat([dfAnterior3,dfAnterior2,dfAnterior,dataframe],axis=1)\n",
    "        df = df.fillna(999)\n",
    "        return df\n",
    "\n",
    "\n",
    "df = df.apply(multioutput2multilabel,axis=1)\n",
    "len(df.ix[1])"
   ]
  },
  {
   "cell_type": "code",
   "execution_count": 7,
   "metadata": {
    "collapsed": false
   },
   "outputs": [
    {
     "data": {
      "text/plain": [
       "156"
      ]
     },
     "execution_count": 7,
     "metadata": {},
     "output_type": "execute_result"
    }
   ],
   "source": [
    "df = concatenar_estados(df)\n",
    "len(df.ix[1])"
   ]
  },
  {
   "cell_type": "code",
   "execution_count": 9,
   "metadata": {
    "collapsed": false
   },
   "outputs": [],
   "source": [
    "#Defino los elementos train_data y target_data\n",
    "train = df.drop([0, 1, 2,3,4],axis=1).values\n",
    "labels = df[[0,1,2,3,4]].values"
   ]
  },
  {
   "cell_type": "code",
   "execution_count": null,
   "metadata": {
    "collapsed": false
   },
   "outputs": [],
   "source": []
  },
  {
   "cell_type": "code",
   "execution_count": 11,
   "metadata": {
    "collapsed": false
   },
   "outputs": [],
   "source": [
    "#define el perceptrón y lo entrena\n",
    "#clf = MLPClassifier(solver='lbfgs', alpha=1e-5,\n",
    "#                    hidden_layer_sizes=(15,), random_state=1)\n",
    "clf = MLPClassifier(solver='lbfgs', alpha=10, learning_rate= 'constant',\n",
    "                    random_state = 0, learning_rate_init = 1, \n",
    "                    hidden_layer_sizes=(5,), batch_size = 200,) \n",
    "           \n",
    "\n",
    "clf.fit(train, labels)\n",
    "model = deepcopy(clf)\n",
    "pickle.dump(clf, open(\".\\\\AI_Data\\\\clf.sav\", 'wb'))\n",
    "pickle.dump(model, open(\".\\\\AI_Data\\\\model.sav\", 'wb'))\n",
    "shapes = [coef.shape for coef in model.coefs_] # solo voy a ajustar los pesos\n",
    "sizes =[coef.size for coef in model.coefs_]"
   ]
  },
  {
   "cell_type": "code",
   "execution_count": 12,
   "metadata": {
    "collapsed": false
   },
   "outputs": [
    {
     "name": "stdout",
     "output_type": "stream",
     "text": [
      "[755, 25]\n"
     ]
    }
   ],
   "source": [
    "#Neuroevolución\n",
    "\n",
    "def gen2Coefs(gen,sizes,shapes):\n",
    "    coefs = []\n",
    "    splits = np.split(gen, [sizes[0]])\n",
    "    for i in range(len(splits)):\n",
    "        coefs.append(splits[i].reshape(shapes[i]))\n",
    "    return coefs\n",
    "\n",
    "def coefs2gen(coefs,sizes,shapes):\n",
    "    return np.concatenate((coefs[0].flatten(),coefs[1].flatten()))\n",
    "\n",
    "\n",
    "print(sizes)"
   ]
  },
  {
   "cell_type": "markdown",
   "metadata": {},
   "source": [
    "### Pipeline"
   ]
  },
  {
   "cell_type": "code",
   "execution_count": 13,
   "metadata": {
    "collapsed": false
   },
   "outputs": [],
   "source": [
    "from sklearn.pipeline import Pipeline\n",
    "from sklearn.preprocessing import StandardScaler\n",
    "\n",
    "clf = MLPClassifier(solver='lbfgs', alpha=10, learning_rate= 'constant',\n",
    "                    random_state = 0, learning_rate_init = 1, \n",
    "                    hidden_layer_sizes=(5,), batch_size = 200,) \n",
    "\n",
    "estimators = [('stantandarize', StandardScaler()), ('clf', clf)]\n",
    "\n",
    "pipe = Pipeline(estimators)\n",
    "\n",
    "# entreno el pipe como si fuera un clasificador, \n",
    "# también podría hacer validación cruzada y todo como si fuese un clasificador normal\n",
    "pipe.fit(train, labels)\n",
    "pickle.dump(model, open(\".\\\\AI_Data\\\\pipe.sav\", 'wb'))\n",
    "\n",
    "\n",
    "#from sklearn.model_selection import cross_val_score\n",
    "#print(cross_val_score(pipe, train, labels, cv=5).mean())"
   ]
  },
  {
   "cell_type": "code",
   "execution_count": 14,
   "metadata": {
    "collapsed": false
   },
   "outputs": [],
   "source": [
    "def MLPFitness(individual):\n",
    "    coefs = gen2Coefs(np.array(individual),sizes,shapes)\n",
    "    pipe.named_steps['clf'].coefs_ = coefs \n",
    "    pickle.dump(model, open(\".\\\\AI_Data\\\\model.sav\", 'wb'))\n",
    "    os.system(\"AI.exe\")\n",
    "    scores = pd.read_csv(\"myData.csv\", sep=',', header=None)\n",
    "    os.remove(\"myData.csv\")\n",
    "    f = np.mean(scores.values)\n",
    "    return (f,)\n",
    "\n",
    "\n",
    "\n",
    "#MLPFitness(coefs2gen(clf.coefs_,sizes,shapes))"
   ]
  },
  {
   "cell_type": "code",
   "execution_count": 15,
   "metadata": {
    "collapsed": true
   },
   "outputs": [],
   "source": [
    "def initPopulation(pop, ind_random, ind_guess,n_guess=1,n=10):\n",
    "    \n",
    "    pop = []\n",
    "    n_random = n - n_guess\n",
    "    for i in range(n_random):\n",
    "        pop.append(ind_random())\n",
    "        \n",
    "    for i in range(n_guess):\n",
    "        pop.append(ind_guess())\n",
    "    \n",
    "    return pop"
   ]
  },
  {
   "cell_type": "code",
   "execution_count": null,
   "metadata": {
    "collapsed": false,
    "scrolled": true
   },
   "outputs": [
    {
     "name": "stdout",
     "output_type": "stream",
     "text": [
      "gen\tnevals\tavg    \tstd    \tmin     \tmax    \n",
      "0  \t10    \t20.7132\t20.5401\t-3.01483\t60.7161\n"
     ]
    }
   ],
   "source": [
    "N = 1\n",
    "\n",
    "pesosIniciales =  pickle.load(open(\"best1.sav\", 'rb'))\n",
    "pesosIniciales = coefs2gen(pipe.named_steps['clf'].coefs_,sizes,shapes).copy()\n",
    "shapes = [coef.shape for coef in model.coefs_] # solo voy a ajustar los pesos\n",
    "sizes =[coef.size for coef in model.coefs_]\n",
    "\n",
    "\n",
    "creator.create(\"FitnessMax\", base.Fitness, weights=(1.0,)) # Maximiza\n",
    "creator.create(\"Individual\", np.ndarray, fitness=creator.FitnessMax)\n",
    "\n",
    "toolbox = base.Toolbox()\n",
    "\n",
    "toolbox.register(\"attr_float\", random.random)\n",
    "toolbox.register(\"individual\", tools.initRepeat, creator.Individual, toolbox.attr_float, n=sum(sizes))\n",
    "toolbox.register(\"population\", tools.initRepeat, list, toolbox.individual)\n",
    "\n",
    "toolbox.register(\"individual_guess\", lambda :creator.Individual(pesosIniciales))\n",
    "toolbox.register(\"population_mix\",initPopulation,list,toolbox.individual, toolbox.individual_guess)       \n",
    "\n",
    "\n",
    "toolbox.register(\"evaluate\", MLPFitness)\n",
    "toolbox.register(\"mate\", tools.cxOnePoint)\n",
    "\n",
    "toolbox.register(\"mutate\", tools.mutGaussian, mu=0.5, sigma=0.5, indpb=0.2)\n",
    "toolbox.register(\"select\", tools.selTournament, tournsize=10)\n",
    "\n",
    "random.seed(64)\n",
    "  \n",
    "population = toolbox.population_mix(n=10, n_guess=N)  \n",
    "    \n",
    "hof = tools.HallOfFame(1, similar=np.array_equal)\n",
    "    \n",
    "stats = tools.Statistics(lambda ind: ind.fitness.values)\n",
    "stats.register(\"avg\", np.mean)\n",
    "stats.register(\"std\", np.std)\n",
    "stats.register(\"min\", np.min)\n",
    "stats.register(\"max\", np.max)\n",
    "   \n",
    "population, logbook = algorithms.eaSimple(population, toolbox, cxpb=0.5, mutpb=0.2, ngen=1, stats=stats, halloffame=hof)\n",
    "print(hof) # hall of the fame contiene el mejor individuo vivo en cada generacion\n",
    "mejorInd = hof[0] # esta ordenado de manera que el primer elemento es el mejor de siempre\n",
    "\n",
    "pickle.dump(mejorInd, open(\".\\\\best1.sav\", 'wb'))\n",
    "MLPFitness(mejorInd)"
   ]
  },
  {
   "cell_type": "markdown",
   "metadata": {},
   "source": [
    "0  \t5     \t-180.767\t80.8397\t-287.219\t-95.0069\n",
    "1  \t2     \t-133.332\t52.4052\t-227.667\t-95.0069\n",
    "2  \t3     \t-158.725\t53.4109\t-213.969\t-95.0069"
   ]
  },
  {
   "cell_type": "code",
   "execution_count": 21,
   "metadata": {
    "collapsed": true
   },
   "outputs": [],
   "source": [
    "coefs = gen2Coefs(np.array(mejorInd),sizes,shapes)\n",
    "pipe.named_steps['clf'].coefs_ = coefs \n",
    "pickle.dump(model, open(\".\\\\best1.sav\", 'wb'))"
   ]
  },
  {
   "cell_type": "code",
   "execution_count": 20,
   "metadata": {
    "collapsed": false
   },
   "outputs": [
    {
     "name": "stdout",
     "output_type": "stream",
     "text": [
      "[Individual([ 0.20447112,  0.00775108,  0.15211689,  0.55796475,  0.72296187,\n",
      "        0.92459415,  0.34060226,  0.52013013,  0.09331633,  0.95036604,\n",
      "        0.13711507,  0.3805449 ,  0.66629941,  0.92033171,  0.69372702,\n",
      "        0.39206606,  0.23812315,  0.82489498,  0.17155091,  0.42651996,\n",
      "        0.17142916,  0.89763566,  0.08524603,  0.01455098,  0.91275495,\n",
      "        0.34434219,  0.63436724,  0.95702355,  0.25309347,  0.44086234,\n",
      "        0.18544689,  0.62065847,  0.84601957,  0.95496715,  0.96444054,\n",
      "        0.48112754,  0.56909003,  0.25591451,  0.48361452,  0.88819862,\n",
      "        0.54515804,  0.18596798,  0.73534453,  0.59228706,  0.39585865,\n",
      "        0.9756744 ,  0.13268453,  0.32261975,  0.98446772,  0.52220431,\n",
      "        0.87739295,  0.18448076,  0.27228447,  0.01775943,  0.37538751,\n",
      "        0.77705708,  0.29558482,  0.69791544,  0.91197936,  0.56826454,\n",
      "        0.56322955,  0.69445096,  0.08979084,  0.96243306,  0.4141705 ,\n",
      "        0.96347437,  0.43653574,  0.86695578,  0.05443809,  0.1358591 ,\n",
      "        0.47364831,  0.63633126,  0.93537907,  0.49041495,  0.74566471,\n",
      "        0.29400383,  0.32982041,  0.28777256,  0.10175106,  0.12860767,\n",
      "        0.14539172,  0.99636605,  0.69026974,  0.89422661,  0.89483487,\n",
      "        0.5438679 ,  0.73957733,  0.17007955,  0.99111292,  0.50817189,\n",
      "        0.89248848,  0.53124155,  0.27060846,  0.53649962,  0.95216865,\n",
      "        0.39236663,  0.43796029,  0.19967261,  0.17742362,  0.26994011,\n",
      "        0.25941199,  0.8495926 ,  0.23035404,  0.34701281,  0.43066531,\n",
      "        0.81742449,  0.33996617,  0.98604196,  0.76517874,  0.97228389,\n",
      "        0.81064771,  0.02314041,  0.68381246,  0.62929158,  0.67911281,\n",
      "        0.33536359,  0.13663778,  0.25571278,  0.67457751,  0.33288556,\n",
      "        0.42038658,  0.67083525,  0.8431565 ,  0.20099398,  0.47460109,\n",
      "        0.78185085,  0.6778338 ,  0.96555088,  0.05826749,  0.24901197,\n",
      "        0.69919818,  0.43508026,  0.50352905,  0.93089713,  0.68466592,\n",
      "        0.68332858,  0.20070195,  0.17365235,  0.40748564,  0.22864745,\n",
      "        0.74796432,  0.76867976,  0.18390884,  0.5028463 ,  0.42093191,\n",
      "        0.61881845,  0.48291614,  0.81329745,  0.44716815,  0.93700736,\n",
      "        0.53689077,  0.52440101,  0.18180428,  0.4650589 ,  0.64923509,\n",
      "        0.19177894,  0.35952392,  0.43111207,  0.47692802,  0.87211304,\n",
      "        0.06357956,  0.72766108,  0.32054935,  0.26197796,  0.24238915,\n",
      "        0.84057339,  0.81290749,  0.29443471,  0.82069543,  0.53217211,\n",
      "        0.80782684,  0.80270056,  0.01355538,  0.33960411,  0.60479225,\n",
      "        0.94090817,  0.80071901,  0.60263903,  0.42099217,  0.25708537,\n",
      "        0.77923497,  0.77914555,  0.18488302,  0.40767576,  0.44867205,\n",
      "        0.18704534,  0.71840578,  0.14018869,  0.34254603,  0.43113107,\n",
      "        0.59482895,  0.33268702,  0.39901697,  0.7013548 ,  0.19963539,\n",
      "        0.06924341,  0.7141452 ,  0.09528582,  0.99432241,  0.1892991 ,\n",
      "        0.27026434,  0.53003519,  0.26142339,  0.87823313,  0.58272033,\n",
      "        0.87453884,  0.38150431,  0.75949057,  0.88722027,  0.79300831,\n",
      "        0.48813344,  0.54388875,  0.67520316,  0.53279926,  0.71665813,\n",
      "        0.95418797,  0.31694268,  0.41115514,  0.07720601,  0.22315454,\n",
      "        0.893206  ,  0.28010847,  0.78346907,  0.01730286,  0.65798639,\n",
      "        0.99574049,  0.44567083,  0.60040964,  0.67307764,  0.36884495,\n",
      "        0.71863198,  0.00259582,  0.03947957,  0.65195109,  0.0479159 ,\n",
      "        0.00959139,  0.88031938,  0.29542631,  0.00742885,  0.90149079,\n",
      "        0.53015797,  0.56951555,  0.75472798,  0.35424732,  0.64238838,\n",
      "        0.13984191,  0.32135913,  0.2928653 ,  0.85671466,  0.73990949,\n",
      "        0.97535934,  0.53873232,  0.29350912,  0.00858996,  0.72569488,\n",
      "        0.65891725,  0.63644065,  0.61649884,  0.7506284 ,  0.4225291 ,\n",
      "        0.6085941 ,  0.0677934 ,  0.38180198,  0.34287764,  0.31243966,\n",
      "        0.56639486,  0.35285221,  0.81774846,  0.22620882,  0.01571943,\n",
      "        0.00776997,  0.15060536,  0.52658863,  0.7899825 ,  0.29465949,\n",
      "        0.11884164,  0.36811592,  0.8458232 ,  0.92884977,  0.11892477,\n",
      "        0.07087493,  0.57326393,  0.27914169,  0.32489441,  0.9496278 ,\n",
      "        0.92405445,  0.49468553,  0.50928254,  0.63482712,  0.14273368,\n",
      "        0.90024591,  0.57523712,  0.8803836 ,  0.17971616,  0.23372694,\n",
      "        0.83212417,  0.11802516,  0.63436498,  0.5547884 ,  0.88253033,\n",
      "        0.74797314,  0.89296032,  0.25838009,  0.74411507,  0.44495502,\n",
      "        0.12077211,  0.04452448,  0.54025986,  0.83025   ,  0.10551866,\n",
      "        0.25281087,  0.94152283,  0.9548951 ,  0.45576523,  0.04968451,\n",
      "        0.56326972,  0.00263156,  0.63810413,  0.85713727,  0.44818121,\n",
      "        0.35865443,  0.5268767 ,  0.81287735,  0.39769752,  0.97336039,\n",
      "        0.42575337,  0.30496419,  0.71603151,  0.03119757,  0.95799943,\n",
      "        0.68663642,  0.60518372,  0.25718196,  0.66903269,  0.72197106,\n",
      "        0.52319196,  0.19550915,  0.45284218,  0.34861888,  0.00589864,\n",
      "        0.4400002 ,  0.14903127,  0.38608536,  0.19229952,  0.96363452,\n",
      "        0.64979488,  0.1562703 ,  0.63955728,  0.17196702,  0.62463988,\n",
      "        0.02885158,  0.24137711,  0.25457143,  0.36372762,  0.46741958,\n",
      "        0.10963786,  0.01233872,  0.82783622,  0.32750752,  0.00403823,\n",
      "        0.32578357,  0.15431512,  0.1439587 ,  0.58175707,  0.23942938,\n",
      "        0.54352143,  0.4490436 ,  0.87561629,  0.88509744,  0.18741102,\n",
      "        0.74337604,  0.16947687,  0.33957283,  0.89190736,  0.03439311,\n",
      "        0.98693548,  0.62776085,  0.1641471 ,  0.55719013,  0.63933504,\n",
      "        0.7331467 ,  0.91103419,  0.17349478,  0.73802551,  0.92582516,\n",
      "        0.79541391,  0.80240559,  0.35624467,  0.51197948,  0.54560695,\n",
      "        0.31330841,  0.97186936,  0.53807662,  0.88897282,  0.42884879,\n",
      "        0.05779203,  0.08438441,  0.28874882,  0.26579379,  0.10694383,\n",
      "        0.55818535,  0.21956308,  0.27505209,  0.39887748,  0.22589612,\n",
      "        0.4279572 ,  0.33316769,  0.68941552,  0.35430426,  0.83575598,\n",
      "        0.37313883,  0.58841647,  0.70519813,  0.46900166,  0.89671306,\n",
      "        0.96893701,  0.05036433,  0.28635353,  0.66264503,  0.98291068,\n",
      "        0.49034777,  0.33023903,  0.939187  ,  0.36950864,  0.07787746,\n",
      "        0.66316812,  0.56587276,  0.60431911,  0.67518644,  0.62639678,\n",
      "        0.2118152 ,  0.46628892,  0.32766698,  0.47858083,  0.80240854,\n",
      "        0.97444653,  0.52721103,  0.62668783,  0.91803869,  0.35158921,\n",
      "        0.41498454,  0.88712982,  0.37458526,  0.83824447,  0.74951327,\n",
      "        0.7331784 ,  0.4751157 ,  0.59351851,  0.10217321,  0.91743988,\n",
      "        0.85155459,  0.02624207,  0.62407456,  0.93707956,  0.16817806,\n",
      "        0.0369837 ,  0.79987092,  0.88174856,  0.00562452,  0.98472651,\n",
      "        0.92169344,  0.41214381,  0.23937266,  0.56508182,  0.04267737,\n",
      "        0.73467029,  0.60991849,  0.92610684,  0.13985721,  0.26697083,\n",
      "        0.99834078,  0.53480579,  0.74224986,  0.5400663 ,  0.43464516,\n",
      "        0.11600367,  0.90724748,  0.88133777,  0.02305807,  0.14823198,\n",
      "        0.02251419,  0.2489865 ,  0.82808619,  0.3928542 ,  0.6933687 ,\n",
      "        0.55312666,  0.42646257,  0.52893921,  0.50546766,  0.96493926,\n",
      "        0.82883712,  0.68654866,  0.65470936,  0.01570107,  0.31675439,\n",
      "        0.66056411,  0.16969172,  0.84766414,  0.77196077,  0.66911306,\n",
      "        0.82537416,  0.9461417 ,  0.42464801,  0.26446578,  0.04032703,\n",
      "        0.25684428,  0.94994983,  0.599437  ,  0.38724405,  0.12119679,\n",
      "        0.01375545,  0.3596491 ,  0.41657081,  0.13644377,  0.28957885,\n",
      "        0.51695604,  0.63191273,  0.41011164,  0.04862734,  0.5648119 ,\n",
      "        0.27566101,  0.79908688,  0.56318186,  0.44465631,  0.87195965,\n",
      "        0.75689975,  0.0671247 ,  0.01574359,  0.28425821,  0.88546553,\n",
      "        0.27056222,  0.22052225,  0.10787218,  0.62839604,  0.49021743,\n",
      "        0.03576882,  0.79545725,  0.91080845,  0.64521864,  0.75307256,\n",
      "        0.64320507,  0.83249028,  0.13889016,  0.56613068,  0.80143366,\n",
      "        0.4493403 ,  0.72403857,  0.48560117,  0.52473448,  0.66923747,\n",
      "        0.52022828,  0.45402696,  0.90555533,  0.01499907,  0.76606588,\n",
      "        0.97377336,  0.42828151,  0.52203498,  0.36326302,  0.89889116,\n",
      "        0.7291814 ,  0.93941946,  0.07848048,  0.31891468,  0.53838818,\n",
      "        0.88978048,  0.46546974,  0.64966431,  0.82421368,  0.21040452,\n",
      "        0.72921409,  0.26811989,  0.55328389,  0.93036436,  0.52862711,\n",
      "        0.88183632,  0.23064713,  0.6766851 ,  0.12913631,  0.48939577,\n",
      "        0.09489134,  0.33874617,  0.70536906,  0.77611263,  0.79724996,\n",
      "        0.72268771,  0.76417155,  0.36978344,  0.7526442 ,  0.90914955,\n",
      "        0.71666841,  0.51714421,  0.89183587,  0.11940402,  0.37785996,\n",
      "        0.62282725,  0.93268788,  0.76701815,  0.31393686,  0.68364804,\n",
      "        0.19544809,  0.05379661,  0.02716577,  0.00800787,  0.80225228,\n",
      "        0.85925145,  0.85217889,  0.64640345,  0.22815933,  0.96895324,\n",
      "        0.67785681,  0.63053827,  0.94292166,  0.89487716,  0.19908957,\n",
      "        0.92230287,  0.50425883,  0.67406222,  0.97876509,  0.13831219,\n",
      "        0.39201899,  0.79929322,  0.24009726,  0.46969534,  0.80142038,\n",
      "        0.301778  ,  0.49271127,  0.6069174 ,  0.59784146,  0.62244578,\n",
      "        0.42058279,  0.16193686,  0.31101784,  0.96421701,  0.09900513,\n",
      "        0.08146458,  0.09752765,  0.36904696,  0.97569226,  0.52423407,\n",
      "        0.17076718,  0.26210397,  0.46840968,  0.96918419,  0.80257603,\n",
      "        0.5130192 ,  0.37690848,  0.60587419,  0.28049296,  0.45113101,\n",
      "        0.64496094,  0.92660182,  0.47051717,  0.49408173,  0.05117056,\n",
      "        0.41108405,  0.28449055,  0.29386428,  0.15673377,  0.15860149,\n",
      "        0.11623629,  0.69532666,  0.33374839,  0.61523481,  0.23730641,\n",
      "        0.65049257,  0.04169229,  0.76062298,  0.33398632,  0.56644628,\n",
      "        0.46186475,  0.55054271,  0.62653147,  0.58947265,  0.79928999,\n",
      "        0.35990643,  0.13579363,  0.17240989,  0.08831466,  0.82026356,\n",
      "        0.43553385,  0.67849084,  0.75347546,  0.26898288,  0.0137522 ,\n",
      "        0.08973295,  0.76994381,  0.62974222,  0.27300778,  0.53257058,\n",
      "        0.7749105 ,  0.92337352,  0.21614255,  0.20704107,  0.17238292,\n",
      "        0.76020201,  0.16336535,  0.15275294,  0.67935799,  0.65826076,\n",
      "        0.2156287 ,  0.76159748,  0.39336339,  0.41353091,  0.80516793,\n",
      "        0.41559318,  0.75651795,  0.77517293,  0.57637487,  0.8592469 ,\n",
      "        0.02588654,  0.64536147,  0.31399387,  0.911016  ,  0.02205854,\n",
      "        0.33080077,  0.27607583,  0.32711594,  0.31464138,  0.90530405,\n",
      "        0.73265675,  0.20216186,  0.11419574,  0.50945589,  0.34379686,\n",
      "        0.90810712,  0.99875277,  0.9592653 ,  0.45845818,  0.65582805,\n",
      "        0.57489994,  0.95176119,  0.74717492,  0.26676461,  0.36403993,\n",
      "        0.01841227,  0.27833563,  0.13905236,  0.6747246 ,  0.64949718,\n",
      "        0.69307329,  0.9391743 ,  0.24678745,  0.53827674,  0.2924869 ,\n",
      "        0.92771389,  0.91579886,  0.37565602,  0.92858122,  0.31387686,\n",
      "        0.04719514,  0.95069529,  0.02431672,  0.82270849,  0.9996285 ,\n",
      "        0.65727403,  0.53370432,  0.34833165,  0.69608974,  0.31336691,\n",
      "        0.90057102,  0.20441545,  0.32197356,  0.53943874,  0.54057231,\n",
      "        0.25092355,  0.3356136 ,  0.07175307,  0.6232632 ,  0.12165902,\n",
      "        0.31467919,  0.43737894,  0.55034254,  0.50445145,  0.68058711,\n",
      "        0.20230793,  0.53621646,  0.47431357,  0.92370547,  0.92157749])]\n"
     ]
    }
   ],
   "source": [
    "print(hof)"
   ]
  },
  {
   "cell_type": "code",
   "execution_count": 19,
   "metadata": {
    "collapsed": false
   },
   "outputs": [
    {
     "data": {
      "text/plain": [
       "(29.493012000000004,)"
      ]
     },
     "execution_count": 19,
     "metadata": {},
     "output_type": "execute_result"
    }
   ],
   "source": [
    "MLPFitness(mejorInd)"
   ]
  },
  {
   "cell_type": "markdown",
   "metadata": {
    "collapsed": true
   },
   "source": [
    "### Calibrado de parámetros"
   ]
  },
  {
   "cell_type": "code",
   "execution_count": 28,
   "metadata": {
    "collapsed": false
   },
   "outputs": [],
   "source": [
    "from sklearn.model_selection import RandomizedSearchCV\n",
    "from sklearn.ensemble import RandomForestClassifier\n",
    "\n",
    "from scipy.stats import randint as sp_randint\n",
    "\n",
    "# Constructor del random forest\n",
    "clf = MLPClassifier(solver='lbfgs', alpha=1e-5,\n",
    "                    hidden_layer_sizes=(15,), random_state=1)\n",
    "\n",
    "\n",
    "\n",
    "# especifica los parámetros y su distribución\n",
    "## tamaño capa oculta\n",
    "## Learning rate intit\n",
    "param_dist = {\"hidden_layer_sizes\":[(2,),(5,),(10,),(50,),(100,)],\n",
    "              \"solver\":['lbfgs'],\n",
    "              \"batch_size\":[100,200,500],\n",
    "              \"learning_rate_init\":[0.001,0.0001,0.0005,0.1,1],\n",
    "              \"learning_rate\":[\"constant\", \"invscaling\", \"adaptive\"],\n",
    "              \"alpha\":[0.001,0.0001,0.0005,0.1,1,5,10],\n",
    "              \"random_state\":[0,1,10]}\n",
    "\n",
    "# ejecuta búsqueda aleatoria\n",
    "num_iteraciones = 200 ## aumentar numero\n",
    "random_search = RandomizedSearchCV(clf, param_distributions=param_dist,\n",
    "                                   n_iter=num_iteraciones)\n",
    "\n",
    "#clf.get_params().keys()\n",
    "random_search.fit(train, labels)\n",
    "send_message(\"Done!\", 4191538)\n",
    "send_message(random_search.best_params_,4191538)"
   ]
  },
  {
   "cell_type": "code",
   "execution_count": 29,
   "metadata": {
    "collapsed": false,
    "scrolled": true
   },
   "outputs": [
    {
     "name": "stdout",
     "output_type": "stream",
     "text": [
      "Los mejores parámetros encontrados son:\n",
      "\n",
      "{'solver': 'lbfgs', 'random_state': 0, 'learning_rate_init': 1, 'learning_rate': 'constant', 'hidden_layer_sizes': (5,), 'batch_size': 200, 'alpha': 10}\n"
     ]
    }
   ],
   "source": [
    "print(\"Los mejores parámetros encontrados son:\")\n",
    "print()\n",
    "print(random_search.best_params_)"
   ]
  },
  {
   "cell_type": "code",
   "execution_count": null,
   "metadata": {
    "collapsed": true
   },
   "outputs": [],
   "source": []
  },
  {
   "cell_type": "markdown",
   "metadata": {},
   "source": [
    "### Telegram bot"
   ]
  },
  {
   "cell_type": "code",
   "execution_count": 11,
   "metadata": {
    "collapsed": true
   },
   "outputs": [],
   "source": [
    "import json \n",
    "import requests\n",
    "\n",
    "TOKEN = \"371099199:AAFy_hyhXjc4Ew8pGS1engI6RdJ3YDT0VSU\"\n",
    "URL = \"https://api.telegram.org/bot{}/\".format(TOKEN)"
   ]
  },
  {
   "cell_type": "code",
   "execution_count": 14,
   "metadata": {
    "collapsed": false
   },
   "outputs": [],
   "source": [
    "def get_url(url):\n",
    "    response = requests.get(url)\n",
    "    content = response.content.decode(\"utf8\")\n",
    "    return content\n",
    "\n",
    "def get_json_from_url(url):\n",
    "    content = get_url(url)\n",
    "    js = json.loads(content)\n",
    "    return js\n",
    "\n",
    "def get_updates():\n",
    "    url = URL + \"getUpdates\"\n",
    "    js = get_json_from_url(url)\n",
    "    return js\n",
    "\n",
    "def get_last_chat_id_and_text(updates):\n",
    "    num_updates = len(updates[\"result\"])\n",
    "    last_update = num_updates - 1\n",
    "    text = updates[\"result\"][last_update][\"message\"][\"text\"]\n",
    "    chat_id = updates[\"result\"][last_update][\"message\"][\"chat\"][\"id\"]\n",
    "    return (text, chat_id)\n",
    "    print (get_last_chat_id_and_text(updates))\n",
    "\n",
    "def send_message(text, chat_id):\n",
    "    url = URL + \"sendMessage?text={}&chat_id={}\".format(text, chat_id)\n",
    "    get_url(url)"
   ]
  },
  {
   "cell_type": "code",
   "execution_count": null,
   "metadata": {
    "collapsed": true
   },
   "outputs": [],
   "source": [
    "import time\n",
    "def main():\n",
    "    last_textchat = (None, None)\n",
    "    while True:\n",
    "        text, chat = get_last_chat_id_and_text(get_updates())\n",
    "        if (text, chat) != last_textchat:\n",
    "            send_message(text, chat)\n",
    "            last_textchat = (text, chat)\n",
    "        time.sleep(0.5)\n",
    "main()"
   ]
  },
  {
   "cell_type": "code",
   "execution_count": 15,
   "metadata": {
    "collapsed": false
   },
   "outputs": [
    {
     "name": "stdout",
     "output_type": "stream",
     "text": [
      "4191538\n"
     ]
    }
   ],
   "source": [
    "text, chat = get_last_chat_id_and_text(get_updates())\n",
    "#send_message(text, chat)\n",
    "print(chat)\n",
    "send_message(\"Hola!\", 4191538)"
   ]
  },
  {
   "cell_type": "code",
   "execution_count": null,
   "metadata": {
    "collapsed": true
   },
   "outputs": [],
   "source": []
  }
 ],
 "metadata": {
  "kernelspec": {
   "display_name": "Python 3",
   "language": "python",
   "name": "python3"
  },
  "language_info": {
   "codemirror_mode": {
    "name": "ipython",
    "version": 3
   },
   "file_extension": ".py",
   "mimetype": "text/x-python",
   "name": "python",
   "nbconvert_exporter": "python",
   "pygments_lexer": "ipython3",
   "version": "3.6.0"
  }
 },
 "nbformat": 4,
 "nbformat_minor": 2
}
