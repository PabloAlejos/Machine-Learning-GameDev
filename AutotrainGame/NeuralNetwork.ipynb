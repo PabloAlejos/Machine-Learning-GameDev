{
 "cells": [
  {
   "cell_type": "markdown",
   "metadata": {},
   "source": [
    "## Test Neuroevolución"
   ]
  },
  {
   "cell_type": "code",
   "execution_count": 10,
   "metadata": {
    "collapsed": true
   },
   "outputs": [],
   "source": [
    "%matplotlib inline\n",
    "import os\n",
    "import numpy as np\n",
    "import matplotlib.pyplot as plt\n",
    "from sklearn.neural_network import MLPClassifier\n",
    "import pandas as pd\n",
    "from sklearn.preprocessing import StandardScaler  "
   ]
  },
  {
   "cell_type": "code",
   "execution_count": 11,
   "metadata": {
    "collapsed": false
   },
   "outputs": [],
   "source": [
    "from deap import algorithms\n",
    "from deap import base\n",
    "from deap import creator\n",
    "from deap import tools\n",
    "import random\n",
    "import pickle\n",
    "from copy import deepcopy\n",
    "from sklearn import preprocessing"
   ]
  },
  {
   "cell_type": "markdown",
   "metadata": {},
   "source": [
    "Importación del scaler\n",
    "http://scikit-learn.org/stable/modules/generated/sklearn.preprocessing.StandardScaler.html"
   ]
  },
  {
   "cell_type": "markdown",
   "metadata": {},
   "source": [
    "### Cargo los datos y retiro el Timestamp y el score"
   ]
  },
  {
   "cell_type": "code",
   "execution_count": 12,
   "metadata": {
    "collapsed": false
   },
   "outputs": [],
   "source": [
    "df = pd.read_csv(\"gameStates.csv\", sep=',', header=None)\n",
    "df.columns = ['timeStamp','Px', 'Py', 'heat', 'Exp1','Eyp1','Exp2','Eyp2', 'Ex1', 'Ey1', 'Eh1', 'Ex2', 'Ey2', 'Eh2', 'Ex3', 'Ey3', 'Eh3', 'Ex4', 'Ey4','Eh4','Ex5', 'Ey5','Eh5','Ex6', 'Ey6','Eh6','ray1','ray2','ray3','ray4','ray5','ray6','ray7','ray8','ray9','ray10','ray11','ray12','ray13','ray14','ray15','ray16','ray17','ray18','ray19','ray20','ray21','ray22','ray23','ray24','ray25','ray26','ray27','score',\"VKey\",\"HKey\",\"Shooting\"]\n",
    "df.drop(['timeStamp','score', 'Ex1', 'Ey1', 'Eh1', 'Ex2', 'Ey2', 'Eh2', 'Ex3', 'Ey3', 'Eh3', 'Ex4', 'Ey4','Eh4','Ex5', 'Ey5','Eh5','Ex6', 'Ey6','Eh6'],axis=1,inplace=True)\n",
    "df = df[1:6001]\n"
   ]
  },
  {
   "cell_type": "markdown",
   "metadata": {},
   "source": [
    "#### Transforma el porblema multioputput en multilabel"
   ]
  },
  {
   "cell_type": "code",
   "execution_count": 13,
   "metadata": {
    "collapsed": false
   },
   "outputs": [],
   "source": [
    "def multioutput2multilabel(row):\n",
    "    values = pd.Series([(row[\"VKey\"] == \"UpArrow\"),(row[\"VKey\"] == \"DownArrow\"),(row[\"HKey\"] == \"LeftArrow\"),(row[\"HKey\"] == \"RightArrow\"),row[\"Shooting\"]])\n",
    "    return pd.concat([row[:len(row)-3], values.astype(float)])\n"
   ]
  },
  {
   "cell_type": "code",
   "execution_count": 15,
   "metadata": {
    "collapsed": false
   },
   "outputs": [
    {
     "data": {
      "text/plain": [
       "39"
      ]
     },
     "execution_count": 15,
     "metadata": {},
     "output_type": "execute_result"
    }
   ],
   "source": [
    "def concatenar_estados(dataframe):\n",
    "        dfAnterior = dataframe.shift(1)\n",
    "        dfAnterior.rename(columns=lambda x: str(x)+\"-1\", inplace=True)\n",
    "        dfAnterior2 = dataframe.shift(2)\n",
    "        dfAnterior2.rename(columns=lambda x: str(x)+\"-2\", inplace=True)\n",
    "        dfAnterior3 = dataframe.shift(3)\n",
    "        dfAnterior3.rename(columns=lambda x: str(x)+\"-3\", inplace=True)\n",
    "        df = pd.concat([dfAnterior3,dfAnterior2,dfAnterior,dataframe],axis=1)\n",
    "        df = df.fillna(999)\n",
    "        return df\n",
    "\n",
    "\n",
    "df = df.apply(multioutput2multilabel,axis=1)\n",
    "len(df.ix[1])"
   ]
  },
  {
   "cell_type": "code",
   "execution_count": 6,
   "metadata": {
    "collapsed": false
   },
   "outputs": [
    {
     "data": {
      "text/plain": [
       "156"
      ]
     },
     "execution_count": 6,
     "metadata": {},
     "output_type": "execute_result"
    }
   ],
   "source": [
    "df = concatenar_estados(df)\n",
    "len(df.ix[1])"
   ]
  },
  {
   "cell_type": "code",
   "execution_count": 7,
   "metadata": {
    "collapsed": false
   },
   "outputs": [],
   "source": [
    "#Defino los elementos train_data y target_data\n",
    "train = df.drop([0, 1, 2,3,4],axis=1).values\n",
    "labels = df[[0,1,2,3,4]].values"
   ]
  },
  {
   "cell_type": "code",
   "execution_count": null,
   "metadata": {
    "collapsed": false
   },
   "outputs": [],
   "source": []
  },
  {
   "cell_type": "code",
   "execution_count": 8,
   "metadata": {
    "collapsed": false
   },
   "outputs": [],
   "source": [
    "#define el perceptrón y lo entrena\n",
    "#clf = MLPClassifier(solver='lbfgs', alpha=1e-5,\n",
    "#                    hidden_layer_sizes=(15,), random_state=1)\n",
    "\n",
    "clf = MLPClassifier(solver='lbfgs', alpha=0.01,learning_rate= 'adaptive',\n",
    "                    random_state=10,activation='logistic', batch_size = 500,)                \n",
    "clf.fit(train, labels)\n",
    "model = deepcopy(clf)\n",
    "pickle.dump(clf, open(\".\\\\AI_Data\\\\clf.sav\", 'wb'))\n",
    "pickle.dump(model, open(\".\\\\AI_Data\\\\model.sav\", 'wb'))\n",
    "shapes = [coef.shape for coef in model.coefs_] # solo voy a ajustar los pesos\n",
    "sizes =[coef.size for coef in model.coefs_]"
   ]
  },
  {
   "cell_type": "code",
   "execution_count": 9,
   "metadata": {
    "collapsed": false
   },
   "outputs": [
    {
     "name": "stdout",
     "output_type": "stream",
     "text": [
      "[15100, 500]\n"
     ]
    }
   ],
   "source": [
    "#Neuroevolución\n",
    "\n",
    "def gen2Coefs(gen,sizes,shapes):\n",
    "    coefs = []\n",
    "    splits = np.split(gen, [sizes[0]])\n",
    "    for i in range(len(splits)):\n",
    "        coefs.append(splits[i].reshape(shapes[i]))\n",
    "    return coefs\n",
    "\n",
    "def coefs2gen(coefs,sizes,shapes):\n",
    "    return np.concatenate((coefs[0].flatten(),coefs[1].flatten()))\n",
    "\n",
    "\n",
    "print(sizes)"
   ]
  },
  {
   "cell_type": "markdown",
   "metadata": {},
   "source": [
    "### Pipeline"
   ]
  },
  {
   "cell_type": "code",
   "execution_count": 10,
   "metadata": {
    "collapsed": false
   },
   "outputs": [
    {
     "name": "stderr",
     "output_type": "stream",
     "text": [
      "C:\\Users\\Pablo Alejos\\Anaconda3\\lib\\site-packages\\sklearn\\neural_network\\multilayer_perceptron.py:563: ConvergenceWarning: Stochastic Optimizer: Maximum iterations reached and the optimization hasn't converged yet.\n",
      "  % (), ConvergenceWarning)\n"
     ]
    }
   ],
   "source": [
    "from sklearn.pipeline import Pipeline\n",
    "from sklearn.preprocessing import StandardScaler\n",
    "\n",
    "\n",
    "estimators = [('stantandarize', StandardScaler()), ('clf', MLPClassifier())]\n",
    "\n",
    "pipe = Pipeline(estimators)\n",
    "\n",
    "# entreno el pipe como si fuera un clasificador, \n",
    "# también podría hacer validación cruzada y todo como si fuese un clasificador normal\n",
    "pipe.fit(train, labels)\n",
    "pickle.dump(model, open(\".\\\\AI_Data\\\\pipe.sav\", 'wb'))\n",
    "\n",
    "\n",
    "#from sklearn.model_selection import cross_val_score\n",
    "#print(cross_val_score(pipe, train, labels, cv=5).mean())"
   ]
  },
  {
   "cell_type": "code",
   "execution_count": 13,
   "metadata": {
    "collapsed": false
   },
   "outputs": [],
   "source": [
    "\n",
    "\n",
    "def MLPFitness(individual):\n",
    "    coefs = gen2Coefs(np.array(individual),sizes,shapes)\n",
    "    pipe.named_steps['clf'].coefs_ = coefs \n",
    "    pickle.dump(model, open(\".\\\\AI_Data\\\\model.sav\", 'wb'))\n",
    "    os.system(\"AI.exe\")\n",
    "    scores = pd.read_csv(\"myData.csv\", sep=',', header=None)\n",
    "    os.remove(\"myData.csv\")\n",
    "    f = np.mean(scores.values)\n",
    "    return (f,)\n",
    "\n",
    "\n",
    "\n",
    "MLPFitness(coefs2gen(clf.coefs_,sizes,shapes))"
   ]
  },
  {
   "cell_type": "code",
   "execution_count": 45,
   "metadata": {
    "collapsed": true
   },
   "outputs": [],
   "source": [
    "send_message(\"Finess: \" + str((52,)), 4191538)"
   ]
  },
  {
   "cell_type": "code",
   "execution_count": 14,
   "metadata": {
    "collapsed": true
   },
   "outputs": [],
   "source": [
    "def initPopulation(pop, ind_random, ind_guess,n_guess=1,n=10):\n",
    "    \n",
    "    pop = []\n",
    "    n_random = n - n_guess\n",
    "    for i in range(n_random):\n",
    "        pop.append(ind_random())\n",
    "        \n",
    "    for i in range(n_guess):\n",
    "        pop.append(ind_guess())\n",
    "    \n",
    "    return pop"
   ]
  },
  {
   "cell_type": "code",
   "execution_count": 15,
   "metadata": {
    "collapsed": false
   },
   "outputs": [
    {
     "name": "stdout",
     "output_type": "stream",
     "text": [
      "gen\tnevals\tavg     \tstd    \tmin  \tmax    \n",
      "0  \t10    \t-1225.56\t95.2366\t-1341\t-1079.2\n",
      "1  \t10    \t-1366.13\t117.769\t-1565.33\t-1157  \n",
      "2  \t10    \t-1312.94\t93.0073\t-1468.5 \t-1181.8\n",
      "3  \t4     \t-1256.94\t108.742\t-1490.25\t-1181.8\n",
      "4  \t3     \t-1252.26\t116.405\t-1522   \t-1181.8\n",
      "5  \t6     \t-1262.68\t73.5782\t-1351.25\t-1181.8\n",
      "[Individual([ 0.76372987,  0.94656442,  0.66200322, ...,  0.35282286,\n",
      "        0.83315299,  0.39545027])]\n"
     ]
    }
   ],
   "source": [
    "N = 2\n",
    "\n",
    "pesosIniciales = coefs2gen(pipe.named_steps['clf'].coefs_,sizes,shapes).copy()\n",
    "shapes = [coef.shape for coef in model.coefs_] # solo voy a ajustar los pesos\n",
    "sizes =[coef.size for coef in model.coefs_]\n",
    "\n",
    "\n",
    "creator.create(\"FitnessMax\", base.Fitness, weights=(1.0,)) # Maximiza\n",
    "creator.create(\"Individual\", np.ndarray, fitness=creator.FitnessMax)\n",
    "\n",
    "toolbox = base.Toolbox()\n",
    "\n",
    "toolbox.register(\"attr_float\", random.random)\n",
    "toolbox.register(\"individual\", tools.initRepeat, creator.Individual, toolbox.attr_float, n=sum(sizes))\n",
    "toolbox.register(\"population\", tools.initRepeat, list, toolbox.individual)\n",
    "\n",
    "toolbox.register(\"individual_guess\", lambda :creator.Individual(pesosIniciales))\n",
    "toolbox.register(\"population_mix\",initPopulation,list,toolbox.individual, toolbox.individual_guess)       \n",
    "\n",
    "\n",
    "toolbox.register(\"evaluate\", MLPFitness)\n",
    "toolbox.register(\"mate\", tools.cxOnePoint)\n",
    "\n",
    "toolbox.register(\"mutate\", tools.mutGaussian, mu=0.5, sigma=0.5, indpb=0.2)\n",
    "toolbox.register(\"select\", tools.selTournament, tournsize=10)\n",
    "\n",
    "random.seed()\n",
    "  \n",
    "population = toolbox.population_mix(n=10, n_guess=N)  \n",
    "    \n",
    "hof = tools.HallOfFame(1, similar=np.array_equal)\n",
    "    \n",
    "stats = tools.Statistics(lambda ind: ind.fitness.values)\n",
    "stats.register(\"avg\", np.mean)\n",
    "stats.register(\"std\", np.std)\n",
    "stats.register(\"min\", np.min)\n",
    "stats.register(\"max\", np.max)\n",
    "    \n",
    "population, logbook = algorithms.eaSimple(population, toolbox, cxpb=0.5, mutpb=0.2, ngen=5, stats=stats, halloffame=hof)\n",
    "print(hof) # hall of the fame contiene el mejor individuo vivo en cada generacion\n",
    "send_message(hof, 4191538)\n",
    "mejorInd = hof[0] # esta ordenado de manera que el primer elemento es el mejor de siempre\n",
    "\n",
    "MLPFitness(mejorInd)"
   ]
  },
  {
   "cell_type": "code",
   "execution_count": 17,
   "metadata": {
    "collapsed": true
   },
   "outputs": [],
   "source": [
    "coefs = gen2Coefs(np.array(mejorInd),sizes,shapes)\n",
    "pipe.named_steps['clf'].coefs_ = coefs \n",
    "pickle.dump(model, open(\".\\\\AI_Data\\\\best1.sav\", 'wb'))"
   ]
  },
  {
   "cell_type": "code",
   "execution_count": null,
   "metadata": {
    "collapsed": true
   },
   "outputs": [],
   "source": []
  },
  {
   "cell_type": "code",
   "execution_count": 16,
   "metadata": {
    "collapsed": false
   },
   "outputs": [
    {
     "data": {
      "text/plain": [
       "(-1345.5999999999999,)"
      ]
     },
     "execution_count": 16,
     "metadata": {},
     "output_type": "execute_result"
    }
   ],
   "source": [
    "MLPFitness(mejorInd)"
   ]
  },
  {
   "cell_type": "markdown",
   "metadata": {
    "collapsed": true
   },
   "source": [
    "### Calibrado de parámetros"
   ]
  },
  {
   "cell_type": "code",
   "execution_count": 26,
   "metadata": {
    "collapsed": false
   },
   "outputs": [
    {
     "name": "stderr",
     "output_type": "stream",
     "text": [
      "C:\\Users\\Pablo Alejos\\Anaconda3\\lib\\site-packages\\sklearn\\neural_network\\multilayer_perceptron.py:563: ConvergenceWarning: Stochastic Optimizer: Maximum iterations reached and the optimization hasn't converged yet.\n",
      "  % (), ConvergenceWarning)\n",
      "C:\\Users\\Pablo Alejos\\Anaconda3\\lib\\site-packages\\sklearn\\neural_network\\multilayer_perceptron.py:563: ConvergenceWarning: Stochastic Optimizer: Maximum iterations reached and the optimization hasn't converged yet.\n",
      "  % (), ConvergenceWarning)\n",
      "C:\\Users\\Pablo Alejos\\Anaconda3\\lib\\site-packages\\sklearn\\neural_network\\multilayer_perceptron.py:563: ConvergenceWarning: Stochastic Optimizer: Maximum iterations reached and the optimization hasn't converged yet.\n",
      "  % (), ConvergenceWarning)\n",
      "C:\\Users\\Pablo Alejos\\Anaconda3\\lib\\site-packages\\sklearn\\neural_network\\multilayer_perceptron.py:563: ConvergenceWarning: Stochastic Optimizer: Maximum iterations reached and the optimization hasn't converged yet.\n",
      "  % (), ConvergenceWarning)\n",
      "C:\\Users\\Pablo Alejos\\Anaconda3\\lib\\site-packages\\sklearn\\neural_network\\multilayer_perceptron.py:563: ConvergenceWarning: Stochastic Optimizer: Maximum iterations reached and the optimization hasn't converged yet.\n",
      "  % (), ConvergenceWarning)\n"
     ]
    },
    {
     "data": {
      "text/plain": [
       "RandomizedSearchCV(cv=None, error_score='raise',\n",
       "          estimator=MLPClassifier(activation='relu', alpha=1e-05, batch_size='auto', beta_1=0.9,\n",
       "       beta_2=0.999, early_stopping=False, epsilon=1e-08,\n",
       "       hidden_layer_sizes=(15,), learning_rate='constant',\n",
       "       learning_rate_init=0.001, max_iter=200, momentum=0.9,\n",
       "       nesterovs_momentum=True, power_t=0.5, random_state=1, shuffle=True,\n",
       "       solver='lbfgs', tol=0.0001, validation_fraction=0.1, verbose=False,\n",
       "       warm_start=False),\n",
       "          fit_params={}, iid=True, n_iter=20, n_jobs=1,\n",
       "          param_distributions={'activation': ['identity', 'logistic', 'tanh', 'relu'], 'solver': ['lbfgs', 'sgd', 'adam'], 'batch_size': [100, 200, 500], 'learning_rate': ['constant', 'invscaling', 'adaptive'], 'alpha': [0.001, 0.0001, 0.0005, 0.1], 'random_state': [0, 1, 10]},\n",
       "          pre_dispatch='2*n_jobs', random_state=None, refit=True,\n",
       "          return_train_score=True, scoring=None, verbose=0)"
      ]
     },
     "execution_count": 26,
     "metadata": {},
     "output_type": "execute_result"
    }
   ],
   "source": [
    "from sklearn.model_selection import RandomizedSearchCV\n",
    "from sklearn.ensemble import RandomForestClassifier\n",
    "\n",
    "from scipy.stats import randint as sp_randint\n",
    "\n",
    "# Constructor del random forest\n",
    "clf = MLPClassifier(solver='lbfgs', alpha=1e-5,\n",
    "                    hidden_layer_sizes=(15,), random_state=1)\n",
    "\n",
    "\n",
    "\n",
    "# especifica los parámetros y su distribución\n",
    "param_dist = {\"activation\": ['identity', 'logistic','tanh', 'relu'],\n",
    "              \"solver\":['lbfgs', 'sgd', 'adam'],\n",
    "              \"batch_size\":[100,200,500],\n",
    "              \"learning_rate\":[\"constant\", \"invscaling\", \"adaptive\"],\n",
    "              \"alpha\":[0.001,0.0001,0.0005,0.1],\n",
    "              \"random_state\":[0,1,10]}\n",
    "\n",
    "# ejecuta búsqueda aleatoria\n",
    "num_iteraciones = 20\n",
    "random_search = RandomizedSearchCV(clf, param_distributions=param_dist,\n",
    "                                   n_iter=num_iteraciones)\n",
    "\n",
    "#clf.get_params().keys()\n",
    "random_search.fit(train, labels)"
   ]
  },
  {
   "cell_type": "code",
   "execution_count": 27,
   "metadata": {
    "collapsed": false
   },
   "outputs": [
    {
     "name": "stdout",
     "output_type": "stream",
     "text": [
      "Los mejores parámetros encontrados son:\n",
      "\n",
      "{'solver': 'lbfgs', 'random_state': 10, 'learning_rate': 'adaptive', 'batch_size': 500, 'alpha': 0.001, 'activation': 'logistic'}\n"
     ]
    }
   ],
   "source": [
    "print(\"Los mejores parámetros encontrados son:\")\n",
    "print()\n",
    "print(random_search.best_params_)"
   ]
  }
 ],
 "metadata": {
  "kernelspec": {
   "display_name": "Python 3",
   "language": "python",
   "name": "python3"
  },
  "language_info": {
   "codemirror_mode": {
    "name": "ipython",
    "version": 3
   },
   "file_extension": ".py",
   "mimetype": "text/x-python",
   "name": "python",
   "nbconvert_exporter": "python",
   "pygments_lexer": "ipython3",
   "version": "3.6.0"
  }
 },
 "nbformat": 4,
 "nbformat_minor": 2
}
