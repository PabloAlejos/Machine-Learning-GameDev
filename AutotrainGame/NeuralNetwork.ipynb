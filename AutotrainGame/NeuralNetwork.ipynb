{
 "cells": [
  {
   "cell_type": "markdown",
   "metadata": {},
   "source": [
    "## Test Neuroevolución"
   ]
  },
  {
   "cell_type": "code",
   "execution_count": 18,
   "metadata": {
    "collapsed": true
   },
   "outputs": [],
   "source": [
    "%matplotlib inline\n",
    "import os\n",
    "import numpy as np\n",
    "import matplotlib.pyplot as plt\n",
    "from sklearn.neural_network import MLPClassifier\n",
    "import pandas as pd\n",
    "from sklearn.preprocessing import StandardScaler  "
   ]
  },
  {
   "cell_type": "code",
   "execution_count": 19,
   "metadata": {
    "collapsed": false
   },
   "outputs": [],
   "source": [
    "from deap import algorithms\n",
    "from deap import base\n",
    "from deap import creator\n",
    "from deap import tools\n",
    "import random\n",
    "import pickle\n",
    "from copy import deepcopy\n",
    "from sklearn import preprocessing"
   ]
  },
  {
   "cell_type": "markdown",
   "metadata": {},
   "source": [
    "Importación del scaler\n",
    "http://scikit-learn.org/stable/modules/generated/sklearn.preprocessing.StandardScaler.html"
   ]
  },
  {
   "cell_type": "markdown",
   "metadata": {},
   "source": [
    "### Cargo los datos y retiro el Timestamp y el score"
   ]
  },
  {
   "cell_type": "code",
   "execution_count": 20,
   "metadata": {
    "collapsed": false
   },
   "outputs": [],
   "source": [
    "df = pd.read_csv(\"gameStates.csv\", sep=',', header=None)\n",
    "df.columns = ['timeStamp','Px', 'Py', 'heat', 'Exp1','Eyp1','Exp2','Eyp2', 'Ex1', 'Ey1', 'Eh1', 'Ex2', 'Ey2', 'Eh2', 'Ex3', 'Ey3', 'Eh3', 'Ex4', 'Ey4','Eh4','Ex5', 'Ey5','Eh5','Ex6', 'Ey6','Eh6','ray1','ray2','ray3','ray4','ray5','ray6','ray7','ray8','ray9','ray10','ray11','ray12','ray13','ray14','ray15','ray16','ray17','ray18','ray19','ray20','ray21','ray22','ray23','ray24','ray25','ray26','ray27','score',\"VKey\",\"HKey\",\"Shooting\"]\n",
    "df.drop(['timeStamp','score', 'Ex1', 'Ey1', 'Eh1', 'Ex2', 'Ey2', 'Eh2', 'Ex3', 'Ey3', 'Eh3', 'Ex4', 'Ey4','Eh4','Ex5', 'Ey5','Eh5','Ex6', 'Ey6','Eh6'],axis=1,inplace=True)\n",
    "df = df[1:6001]\n"
   ]
  },
  {
   "cell_type": "markdown",
   "metadata": {},
   "source": [
    "#### Transforma el porblema multioputput en multilabel"
   ]
  },
  {
   "cell_type": "code",
   "execution_count": 21,
   "metadata": {
    "collapsed": false
   },
   "outputs": [],
   "source": [
    "def multioutput2multilabel(row):\n",
    "    values = pd.Series([(row[\"VKey\"] == \"UpArrow\"),(row[\"VKey\"] == \"DownArrow\"),(row[\"HKey\"] == \"LeftArrow\"),(row[\"HKey\"] == \"RightArrow\"),row[\"Shooting\"]])\n",
    "    return pd.concat([row[:len(row)-3], values.astype(float)])\n"
   ]
  },
  {
   "cell_type": "code",
   "execution_count": 22,
   "metadata": {
    "collapsed": false
   },
   "outputs": [
    {
     "data": {
      "text/plain": [
       "39"
      ]
     },
     "execution_count": 22,
     "metadata": {},
     "output_type": "execute_result"
    }
   ],
   "source": [
    "def concatenar_estados(dataframe):\n",
    "        dfAnterior = dataframe.shift(1)\n",
    "        dfAnterior.rename(columns=lambda x: str(x)+\"-1\", inplace=True)\n",
    "        dfAnterior2 = dataframe.shift(2)\n",
    "        dfAnterior2.rename(columns=lambda x: str(x)+\"-2\", inplace=True)\n",
    "        dfAnterior3 = dataframe.shift(3)\n",
    "        dfAnterior3.rename(columns=lambda x: str(x)+\"-3\", inplace=True)\n",
    "        df = pd.concat([dfAnterior3,dfAnterior2,dfAnterior,dataframe],axis=1)\n",
    "        df = df.fillna(999)\n",
    "        return df\n",
    "\n",
    "\n",
    "df = df.apply(multioutput2multilabel,axis=1)\n",
    "len(df.ix[1])"
   ]
  },
  {
   "cell_type": "code",
   "execution_count": 23,
   "metadata": {
    "collapsed": false
   },
   "outputs": [
    {
     "data": {
      "text/plain": [
       "156"
      ]
     },
     "execution_count": 23,
     "metadata": {},
     "output_type": "execute_result"
    }
   ],
   "source": [
    "df = concatenar_estados(df)\n",
    "len(df.ix[1])"
   ]
  },
  {
   "cell_type": "code",
   "execution_count": 24,
   "metadata": {
    "collapsed": false
   },
   "outputs": [],
   "source": [
    "#Defino los elementos train_data y target_data\n",
    "train = df.drop([0, 1, 2,3,4],axis=1).values\n",
    "labels = df[[0,1,2,3,4]].values"
   ]
  },
  {
   "cell_type": "code",
   "execution_count": null,
   "metadata": {
    "collapsed": false
   },
   "outputs": [],
   "source": []
  },
  {
   "cell_type": "code",
   "execution_count": 28,
   "metadata": {
    "collapsed": false
   },
   "outputs": [],
   "source": [
    "#define el perceptrón y lo entrena\n",
    "#clf = MLPClassifier(solver='lbfgs', alpha=1e-5,\n",
    "#                    hidden_layer_sizes=(15,), random_state=1)\n",
    "clf = MLPClassifier(solver='lbfgs', alpha=10, learning_rate= 'constant',\n",
    "                    random_state = 0, learning_rate_init = 1, \n",
    "                    hidden_layer_sizes=(3,), batch_size = 200,) \n",
    "           \n",
    "\n",
    "clf.fit(train, labels)\n",
    "model = deepcopy(clf)\n",
    "pickle.dump(clf, open(\".\\\\AI_Data\\\\clf.sav\", 'wb'))\n",
    "pickle.dump(model, open(\".\\\\AI_Data\\\\model.sav\", 'wb'))\n",
    "shapes = [coef.shape for coef in model.coefs_]\n",
    "sizes =[coef.size for coef in model.coefs_]"
   ]
  },
  {
   "cell_type": "markdown",
   "metadata": {},
   "source": [
    "### Pipeline"
   ]
  },
  {
   "cell_type": "code",
   "execution_count": 38,
   "metadata": {
    "collapsed": false
   },
   "outputs": [
    {
     "name": "stdout",
     "output_type": "stream",
     "text": [
      "0.509166666667\n"
     ]
    }
   ],
   "source": [
    "from sklearn.pipeline import Pipeline\n",
    "from sklearn.preprocessing import StandardScaler\n",
    "\n",
    "clf = MLPClassifier(solver='lbfgs', alpha=10, learning_rate= 'constant',\n",
    "                    random_state = 0, learning_rate_init = 1, \n",
    "                    hidden_layer_sizes=(3,), batch_size = 200,) \n",
    "\n",
    "estimators = [('stantandarize', StandardScaler()), ('clf', clf)]\n",
    "\n",
    "pipe = Pipeline(estimators)\n",
    "\n",
    "\n",
    "\n",
    "# entreno el pipe como si fuera un clasificador, \n",
    "# también podría hacer validación cruzada y todo como si fuese un clasificador normal\n",
    "pipe.fit(train, labels)\n",
    "\n",
    "pickle.dump(pipe, open(\"pipe.sav\", 'wb'))\n",
    "\n",
    "shapes = [coef.shape for coef in pipe.named_steps['clf'].coefs_] # solo voy a ajustar los pesos\n",
    "sizes =[coef.size for coef in pipe.named_steps['clf'].coefs_]\n",
    "\n",
    "\n",
    "from sklearn.model_selection import cross_val_score\n",
    "print(cross_val_score(pipe, train, labels, cv=5).mean())"
   ]
  },
  {
   "cell_type": "code",
   "execution_count": 39,
   "metadata": {
    "collapsed": false
   },
   "outputs": [
    {
     "data": {
      "text/plain": [
       "(102.44335599999999,)"
      ]
     },
     "execution_count": 39,
     "metadata": {},
     "output_type": "execute_result"
    }
   ],
   "source": [
    "def MLPFitness(individual):\n",
    "    coefs = gen2Coefs(np.array(individual),sizes,shapes)\n",
    "    pipe.named_steps['clf'].coefs_ = coefs \n",
    "    pickle.dump(pipe, open(\"pipe.sav\", 'wb'))\n",
    "    os.system(\"AI.exe 5 120\")\n",
    "    scores = pd.read_csv(\"myData.csv\", sep=',', header=None)\n",
    "    os.remove(\"myData.csv\")\n",
    "    f = np.mean(scores.values)\n",
    "    return (f,)\n",
    "\n",
    "\n",
    "\n",
    "MLPFitness(coefs2gen(clf.coefs_,sizes,shapes))"
   ]
  },
  {
   "cell_type": "code",
   "execution_count": 12,
   "metadata": {
    "collapsed": false
   },
   "outputs": [],
   "source": [
    "#Neuroevolución\n",
    "\n",
    "def gen2Coefs(gen,sizes,shapes):\n",
    "    coefs = []\n",
    "    splits = np.split(gen, [sizes[0]])\n",
    "    for i in range(len(splits)):\n",
    "        coefs.append(splits[i].reshape(shapes[i]))\n",
    "    return coefs\n",
    "\n",
    "def coefs2gen(coefs,sizes,shapes):\n",
    "    return np.concatenate((coefs[0].flatten(),coefs[1].flatten()))"
   ]
  },
  {
   "cell_type": "code",
   "execution_count": 17,
   "metadata": {
    "collapsed": true
   },
   "outputs": [],
   "source": [
    "def initPopulation(pop, ind_random, ind_guess,n_guess=1,n=10):\n",
    "    \n",
    "    pop = []\n",
    "    n_random = n - n_guess\n",
    "    for i in range(n_random):\n",
    "        pop.append(ind_random())\n",
    "        \n",
    "    for i in range(n_guess):\n",
    "        pop.append(ind_guess())\n",
    "    \n",
    "    return pop"
   ]
  },
  {
   "cell_type": "code",
   "execution_count": 40,
   "metadata": {
    "collapsed": false,
    "scrolled": true
   },
   "outputs": [
    {
     "name": "stdout",
     "output_type": "stream",
     "text": [
      "gen\tnevals\tavg    \tstd    \tmin     \tmax    \n",
      "0  \t10    \t327.502\t866.804\t-465.821\t2221.54\n",
      "1  \t6     \t920.857\t1069.39\t-182.496\t2221.54\n",
      "2  \t9     \t509.981\t735.422\t-82.2623\t2221.54\n",
      "3  \t6     \t748.169\t894.679\t-272.723\t2221.54\n",
      "4  \t7     \t718.42 \t782.131\t-281.938\t2221.54\n",
      "5  \t5     \t840.564\t1048.06\t-286.051\t2221.54\n",
      "[Individual([ -5.48429866e-01,   3.54823688e-02,   6.66377521e-01,\n",
      "        -2.50802738e+00,  -5.46454511e-01,  -1.61960702e+00,\n",
      "         4.46250715e-02,   2.24703857e-01,   2.90684424e-03,\n",
      "         2.81964676e-02,   5.66101530e-03,  -4.56168384e-02,\n",
      "        -9.30552393e-03,   4.51873470e-02,   2.78578825e-02,\n",
      "         3.36774710e-02,   7.53723016e-02,  -1.44313488e-02,\n",
      "        -2.93658025e-02,   2.01721174e-02,   1.35407422e-03,\n",
      "        -2.08080973e-02,  -5.42141979e-02,   4.98031120e-04,\n",
      "         2.01254906e-03,  -4.32042765e-04,  -1.05686480e-02,\n",
      "        -1.15168644e-02,  -8.40574934e-02,   1.07616384e-02,\n",
      "        -1.71565416e-03,  -3.75708297e-03,  -6.25221307e-03,\n",
      "        -8.10320855e-03,  -1.02408727e-01,  -5.45633774e-03,\n",
      "        -1.31399782e-02,  -4.05388311e-02,  -4.11749491e-04,\n",
      "         3.63228317e-03,   8.05550710e-02,  -9.30035104e-03,\n",
      "        -7.72081848e-03,   1.09708110e-02,  -1.45777170e-03,\n",
      "         4.09532799e-03,  -7.27056917e-03,  -4.26676115e-03,\n",
      "         7.85425236e-03,  -2.65857644e-01,   7.68451499e-02,\n",
      "         9.39471347e-03,   5.52238567e-02,   3.58179017e-02,\n",
      "        -5.44423517e-03,   2.98956556e-01,  -1.17906396e-01,\n",
      "        -3.00753622e-02,  -6.40352285e-02,  -3.34669644e-03,\n",
      "        -6.00965867e-02,  -3.34865219e-01,  -1.17742998e-01,\n",
      "        -1.18973187e-02,  -1.22142156e-03,  -7.10280775e-03,\n",
      "         2.04810628e-01,  -1.17313251e-01,   6.12067241e-02,\n",
      "         3.80225939e-03,  -2.07877453e-02,  -4.54744096e-04,\n",
      "        -1.65819887e-01,   6.90114957e-03,   5.28846535e-02,\n",
      "        -5.15973516e-03,  -3.04250572e-03,   8.86811088e-03,\n",
      "        -3.20973067e-02,  -2.20553232e-01,   3.76356071e-01,\n",
      "        -9.19095829e-02,  -3.95829965e-01,   6.51600804e-04,\n",
      "         3.72801100e-02,   2.63401295e-01,  -2.40293865e-02,\n",
      "         1.05030895e-01,   4.57483251e-01,   2.07412121e-03,\n",
      "        -5.63592117e-02,  -1.99354359e-01,   2.82747567e-03,\n",
      "        -4.66059592e-03,   2.35515637e-02,  -9.30073822e-03,\n",
      "        -2.51499856e-02,  -1.61980964e-01,   7.41798586e-02,\n",
      "        -6.63766765e-03,  -5.98136189e-02,   8.23918265e-04,\n",
      "        -6.19585504e-01,  -2.87731642e-01,  -3.99639938e-01,\n",
      "         4.42223080e-01,  -9.02627892e-02,  -3.84567960e-02,\n",
      "        -1.55642700e-01,  -1.17975845e-01,  -7.46766787e-02,\n",
      "         5.03992251e-01,  -2.40767286e-01,  -5.14167380e-01,\n",
      "        -1.41816992e-01,  -2.08653987e-01,  -2.55699115e-01,\n",
      "        -1.30774704e+00,   6.18427560e-01,   2.39382381e+00,\n",
      "        -4.22777286e+00,  -7.79496601e-01,  -2.61304576e+00,\n",
      "         8.93739828e-02,  -1.84638683e-01,   3.54286846e-02,\n",
      "         8.93643255e-02,   2.63785322e-01,  -4.96183709e-02,\n",
      "         3.11220591e-02,   2.92451743e-01,   1.64662337e-02,\n",
      "         5.59540768e-02,   1.72702051e-01,  -3.18392898e-02,\n",
      "         2.64099460e-03,   1.62853271e-01,   1.38769358e-02,\n",
      "        -2.15822127e-02,  -1.01262678e-01,   6.89639342e-03,\n",
      "        -1.16499080e-02,  -9.65156303e-02,  -8.16756829e-03,\n",
      "        -1.26491091e-02,  -4.66312158e-02,   6.48565968e-03,\n",
      "        -5.61930263e-03,  -4.80592162e-02,  -4.95107976e-03,\n",
      "        -3.83661797e-03,  -7.34330944e-02,   7.22097545e-03,\n",
      "         3.79673216e-03,  -2.61225851e-02,   9.91343086e-04,\n",
      "         2.05928121e-02,   4.48210061e-02,  -3.87168497e-03,\n",
      "         1.77943445e-02,   4.09951417e-02,   5.83307902e-03,\n",
      "         3.43336414e-02,   6.75688795e-02,   2.70030387e-03,\n",
      "         2.35990538e-01,   1.79279664e-01,   6.52452201e-02,\n",
      "        -5.17512313e-02,   9.59718865e-02,   1.46110952e-01,\n",
      "        -1.25273637e-01,   1.29887068e-01,  -9.87812246e-02,\n",
      "         1.02519372e-01,   1.95414498e-01,   1.77411865e-01,\n",
      "         1.46429755e-01,   2.24762539e-01,  -4.09449494e-02,\n",
      "         1.80462998e-02,   9.40068054e-02,  -1.24350359e-02,\n",
      "        -1.80982518e-03,   6.85639198e-02,   5.27724498e-02,\n",
      "         3.65154056e-02,   1.61998344e-01,   4.50148251e-03,\n",
      "        -5.70926424e-02,   2.39631795e-02,  -5.77637420e-02,\n",
      "         9.38929576e-02,   1.03158703e-01,  -6.20317318e-03,\n",
      "        -1.11752843e-02,   2.23710310e-01,   1.57135908e-02,\n",
      "         1.79717461e-01,  -3.22680450e-02,   2.69052071e-02,\n",
      "        -3.90454833e-02,   6.36985802e-02,   4.58152268e-02,\n",
      "         2.38872077e-02,   1.27804683e-01,  -2.36265153e-03,\n",
      "         2.12079441e-02,  -9.97698506e-02,  -6.69139312e-02,\n",
      "         7.14724492e-03,  -1.89155259e-02,  -6.65316158e-03,\n",
      "         1.37472436e-01,   2.03652017e-01,   1.65211730e-01,\n",
      "         6.89197621e-03,   7.03434619e-02,  -6.68830542e-03,\n",
      "        -9.30265676e-01,  -4.57318519e-01,  -1.13350018e+00,\n",
      "         5.72859691e-01,  -2.43691333e-01,   1.03742493e-02,\n",
      "        -1.13742053e-02,  -2.90989049e-01,  -1.06718342e+00,\n",
      "        -2.31732271e-01,   1.31228648e-01,   2.06998904e-01,\n",
      "         1.22229198e-01,   9.44018507e-03,   1.77261702e-01,\n",
      "        -4.57159961e+00,   2.64319866e+00,   8.02084457e+00,\n",
      "        -5.59936274e+00,  -8.07515395e-01,  -3.39122840e+00,\n",
      "        -1.09329236e-01,  -4.45343131e-01,   1.41913745e-01,\n",
      "         4.48790288e-02,   3.06879682e-02,  -3.31000498e-02,\n",
      "        -4.41985510e-02,   9.67033915e-02,   3.25815932e-02,\n",
      "         1.53859570e-02,  -2.38953663e-03,  -3.01072393e-02,\n",
      "        -7.09968635e-03,  -2.26176559e-02,   3.21612502e-03,\n",
      "        -3.63929859e-02,  -2.66695219e-01,   2.18434288e-02,\n",
      "        -5.66562966e-04,  -1.25148035e-01,   5.51927447e-03,\n",
      "         7.65825026e-03,   1.16379803e-02,   2.41787994e-02,\n",
      "         3.29388493e-02,   9.48779492e-02,  -6.21444611e-03,\n",
      "         4.04695097e-02,   1.65108567e-01,   1.46089524e-02,\n",
      "         2.46880114e-02,   5.41078513e-02,  -1.10276757e-02,\n",
      "         4.08942672e-02,   1.61801523e-01,   4.68201750e-03,\n",
      "         3.43427555e-02,   3.69732024e-02,  -1.87153352e-03,\n",
      "         1.78485150e-02,   8.54217354e-02,   1.52975905e-02,\n",
      "        -8.47667771e-02,   1.40953284e-01,   9.48151522e-02,\n",
      "         1.06402847e-01,  -6.70116303e-02,   1.95060332e-03,\n",
      "         1.88433918e-01,  -3.72593049e-03,  -6.24222578e-02,\n",
      "         8.33404386e-02,   1.19982931e-01,   5.37489266e-03,\n",
      "         2.34669726e-01,  -1.39130217e-03,   3.30458834e-01,\n",
      "         1.09223111e-02,   7.72254348e-02,   7.09547760e-03,\n",
      "         1.76684893e-01,  -6.14468980e-02,  -2.64921092e-02,\n",
      "         1.45666147e-02,   7.51202031e-02,   9.47169583e-03,\n",
      "        -2.95296949e-02,  -4.09776558e-02,  -5.30339938e-02,\n",
      "         1.55986075e-01,   4.75451960e-01,   3.88871736e-03,\n",
      "         4.05272453e-02,  -2.64532303e-01,   1.02966257e-02,\n",
      "         2.14768248e-01,   1.00289980e-01,   5.75041413e-03,\n",
      "        -9.07003803e-02,  -4.07661019e-02,  -4.04407275e-03,\n",
      "         2.32353934e-02,   1.11368152e-01,   7.81646345e-03,\n",
      "         1.27075050e-01,   5.04387702e-02,   7.10588236e-03,\n",
      "         2.79070000e-02,   3.76448733e-02,   1.13969299e-03,\n",
      "         4.92900575e-02,   1.51423078e-01,  -1.69754845e-02,\n",
      "         3.15820881e-02,   4.79635239e-02,  -6.08201037e-03,\n",
      "         4.29381255e-01,  -3.78325917e-01,   3.16540454e-02,\n",
      "        -1.06106256e+00,  -8.64006135e-01,  -7.78898877e-01,\n",
      "         6.90190550e-02,  -5.11066145e-01,  -1.34222010e+00,\n",
      "        -1.26519807e+00,   4.47019013e-01,   5.15403779e-01,\n",
      "        -4.65484908e-01,   1.06301791e+00,  -3.91690690e-01,\n",
      "         4.22574796e-01,  -3.11907944e-01,  -7.59842913e-01,\n",
      "         8.59158066e-01,   4.92651874e-01,   4.50147075e-01,\n",
      "        -5.23926803e-03,   5.17176577e-01,  -1.68726897e-01,\n",
      "        -2.59254823e-02,  -2.95951697e-01,  -1.55522479e-02,\n",
      "        -1.01843682e-01,  -2.75575217e-01,   4.44047651e-02,\n",
      "        -2.42094595e-02,  -1.24920094e-01,  -1.55573549e-02,\n",
      "        -2.98127513e-02,  -1.36805143e-01,   4.80168780e-02,\n",
      "         2.55904525e-02,   1.70369688e-01,  -2.19682470e-02,\n",
      "         4.01612733e-02,   2.70128423e-01,  -2.76522304e-02,\n",
      "         2.08312113e-02,   1.77359280e-01,  -1.54299925e-02,\n",
      "         2.69187562e-02,   2.00370389e-01,  -2.36962710e-02,\n",
      "         2.49640857e-02,   1.67950854e-01,  -1.51174445e-02,\n",
      "         2.69465492e-02,   1.46205169e-01,  -9.13022167e-03,\n",
      "        -4.65936940e-03,  -1.57546211e-02,   4.01591047e-03,\n",
      "        -1.57591320e-02,  -4.97577565e-02,   6.38013930e-03,\n",
      "        -1.77789482e-04,   3.67888583e-03,  -5.57875409e-04,\n",
      "         2.30020061e-01,   1.95624633e-01,  -9.54593458e-03,\n",
      "         2.38105670e-02,   1.10248409e-01,  -1.20555541e-03,\n",
      "        -1.19712327e-01,  -2.43763785e-01,  -2.89012174e-02,\n",
      "        -3.19393157e-02,  -1.54719215e-01,   4.50024389e-04,\n",
      "        -3.96863026e-02,   2.75824516e-01,   1.75595805e-01,\n",
      "        -6.84975800e-03,  -3.41792512e-02,  -9.70360666e-03,\n",
      "         1.05324742e-01,   9.57631553e-02,  -2.59060856e-01,\n",
      "        -5.77357885e-03,  -1.86545242e-02,  -2.65001677e-03,\n",
      "        -2.50681346e-01,   3.04072401e-02,   2.09956726e-01,\n",
      "        -2.15143240e-02,   2.69280148e-02,  -6.04957374e-03,\n",
      "        -1.12562817e-02,  -7.29184925e-02,   9.28431098e-03,\n",
      "         4.17072698e-04,   2.78129326e-02,  -4.89389348e-04,\n",
      "         2.35328698e-02,   1.11564573e-01,  -1.21642013e-02,\n",
      "         1.44315692e-03,   8.84734574e-02,  -5.31267671e-03,\n",
      "         5.43714684e-02,   5.80623329e-02,   1.29699035e-02,\n",
      "         8.78704208e-03,   2.75553587e-02,  -1.12670456e-02,\n",
      "         1.09219437e-02,   2.85188760e-02,  -2.26312863e-02,\n",
      "        -2.65452884e-03,   6.23559878e-02,  -5.94959699e-03,\n",
      "         4.66883624e+00,  -4.11224779e+00,  -3.56882537e+00,\n",
      "         3.44862725e+00,  -4.74386980e-01,  -6.35759778e-01,\n",
      "         1.72207339e-01,   9.23339669e-01,  -9.78289968e-01,\n",
      "         8.27221563e-01,   3.17876247e+00,  -2.16847988e+00,\n",
      "         5.41742354e+00,  -5.64924094e+00,  -9.59881802e-01])]\n"
     ]
    }
   ],
   "source": [
    "\n",
    "\n",
    "N = 3\n",
    "\n",
    "pipe = pickle.load(open(\"pipe.sav\", 'rb'))\n",
    "shapes = [coef.shape for coef in pipe.named_steps['clf'].coefs_] # solo voy a ajustar los pesos\n",
    "sizes =[coef.size for coef in pipe.named_steps['clf'].coefs_]\n",
    "pesosIniciales = coefs2gen(pipe.named_steps['clf'].coefs_,sizes,shapes).copy()\n",
    "\n",
    "\n",
    "creator.create(\"FitnessMax\", base.Fitness, weights=(1.0,)) # Maximiza\n",
    "creator.create(\"Individual\", np.ndarray, fitness=creator.FitnessMax)\n",
    "\n",
    "toolbox = base.Toolbox()\n",
    "\n",
    "toolbox.register(\"attr_float\", random.random)\n",
    "toolbox.register(\"individual\", tools.initRepeat, creator.Individual, toolbox.attr_float, n=sum(sizes))\n",
    "toolbox.register(\"population\", tools.initRepeat, list, toolbox.individual)\n",
    "\n",
    "toolbox.register(\"individual_guess\", lambda :creator.Individual(pesosIniciales))\n",
    "toolbox.register(\"population_mix\",initPopulation,list,toolbox.individual, toolbox.individual_guess)       \n",
    "\n",
    "\n",
    "toolbox.register(\"evaluate\", MLPFitness)\n",
    "toolbox.register(\"mate\", tools.cxOnePoint)\n",
    "\n",
    "toolbox.register(\"mutate\", tools.mutGaussian, mu=0.5, sigma=0.5, indpb=0.2)\n",
    "toolbox.register(\"select\", tools.selTournament, tournsize=10)\n",
    "\n",
    "random.seed(64)\n",
    "  \n",
    "population = toolbox.population_mix(n=10, n_guess=N)  \n",
    "    \n",
    "hof = tools.HallOfFame(1, similar=np.array_equal)\n",
    "    \n",
    "stats = tools.Statistics(lambda ind: ind.fitness.values)\n",
    "stats.register(\"avg\", np.mean)\n",
    "stats.register(\"std\", np.std)\n",
    "stats.register(\"min\", np.min)\n",
    "stats.register(\"max\", np.max)\n",
    "   \n",
    "population, logbook = algorithms.eaSimple(population, toolbox, cxpb=0.5, mutpb=0.2, ngen=5, stats=stats, halloffame=hof)\n",
    "print(hof) # hall of the fame contiene el mejor individuo vivo en cada generacion\n",
    "mejorInd = hof[0] # esta ordenado de manera que el primer elemento es el mejor de siempre\n",
    "\n",
    "MLPFitness(mejorInd)\n",
    "\n",
    "#Guarda el mejor\n",
    "coefs = gen2Coefs(np.array(mejorInd),sizes,shapes)\n",
    "pipe.named_steps['clf'].coefs_ = coefs \n",
    "pickle.dump(pipe, open(\"pipe.sav\", 'wb'))"
   ]
  },
  {
   "cell_type": "markdown",
   "metadata": {},
   "source": [
    "0  \t5     \t-180.767\t80.8397\t-287.219\t-95.0069\n",
    "1  \t2     \t-133.332\t52.4052\t-227.667\t-95.0069\n",
    "2  \t3     \t-158.725\t53.4109\t-213.969\t-95.0069"
   ]
  },
  {
   "cell_type": "code",
   "execution_count": 33,
   "metadata": {
    "collapsed": true
   },
   "outputs": [],
   "source": [
    "coefs = gen2Coefs(np.array(mejorInd),sizes,shapes)\n",
    "pipe.named_steps['clf'].coefs_ = coefs \n",
    "pickle.dump(pipe, open(\"pipe.sav\", 'wb'))"
   ]
  },
  {
   "cell_type": "code",
   "execution_count": 36,
   "metadata": {
    "collapsed": false
   },
   "outputs": [
    {
     "data": {
      "text/plain": [
       "1"
      ]
     },
     "execution_count": 36,
     "metadata": {},
     "output_type": "execute_result"
    }
   ],
   "source": [
    "len(hof)"
   ]
  },
  {
   "cell_type": "code",
   "execution_count": 34,
   "metadata": {
    "collapsed": false
   },
   "outputs": [
    {
     "data": {
      "text/plain": [
       "(-192.09999999999999,)"
      ]
     },
     "execution_count": 34,
     "metadata": {},
     "output_type": "execute_result"
    }
   ],
   "source": [
    "mejorInd = hof[0]\n",
    "MLPFitness(mejorInd)"
   ]
  },
  {
   "cell_type": "markdown",
   "metadata": {
    "collapsed": true
   },
   "source": [
    "### Calibrado de parámetros"
   ]
  },
  {
   "cell_type": "code",
   "execution_count": null,
   "metadata": {
    "collapsed": false
   },
   "outputs": [],
   "source": [
    "from sklearn.model_selection import RandomizedSearchCV\n",
    "from sklearn.ensemble import RandomForestClassifier\n",
    "\n",
    "from scipy.stats import randint as sp_randint\n",
    "\n",
    "# Constructor del random forest\n",
    "clf = MLPClassifier(solver='lbfgs', alpha=1e-5,\n",
    "                    hidden_layer_sizes=(15,), random_state=1)\n",
    "\n",
    "\n",
    "\n",
    "# especifica los parámetros y su distribución\n",
    "## tamaño capa oculta\n",
    "## Learning rate intit\n",
    "param_dist = {\"hidden_layer_sizes\":[(2,),(5,),(10,),(50,),(100,)],\n",
    "              \"solver\":['lbfgs'],\n",
    "              \"batch_size\":[100,200,500],\n",
    "              \"learning_rate_init\":[0.001,0.0001,0.0005,0.1,1],\n",
    "              \"learning_rate\":[\"constant\", \"invscaling\", \"adaptive\"],\n",
    "              \"alpha\":[0.001,0.0001,0.0005,0.1,1,5,10],\n",
    "              \"random_state\":[0,1,10]}\n",
    "\n",
    "# ejecuta búsqueda aleatoria\n",
    "num_iteraciones = 200 ## aumentar numero\n",
    "random_search = RandomizedSearchCV(clf, param_distributions=param_dist,\n",
    "                                   n_iter=num_iteraciones)\n",
    "\n",
    "#clf.get_params().keys()\n",
    "random_search.fit(train, labels)\n",
    "send_message(\"Done!\", 4191538)\n",
    "send_message(random_search.best_params_,4191538)"
   ]
  },
  {
   "cell_type": "code",
   "execution_count": null,
   "metadata": {
    "collapsed": false,
    "scrolled": true
   },
   "outputs": [],
   "source": [
    "print(\"Los mejores parámetros encontrados son:\")\n",
    "print()\n",
    "print(random_search.best_params_)"
   ]
  },
  {
   "cell_type": "code",
   "execution_count": null,
   "metadata": {
    "collapsed": true
   },
   "outputs": [],
   "source": []
  },
  {
   "cell_type": "markdown",
   "metadata": {},
   "source": [
    "### Telegram bot"
   ]
  },
  {
   "cell_type": "code",
   "execution_count": null,
   "metadata": {
    "collapsed": true
   },
   "outputs": [],
   "source": [
    "import json \n",
    "import requests\n",
    "\n",
    "TOKEN = \"371099199:AAFy_hyhXjc4Ew8pGS1engI6RdJ3YDT0VSU\"\n",
    "URL = \"https://api.telegram.org/bot{}/\".format(TOKEN)"
   ]
  },
  {
   "cell_type": "code",
   "execution_count": null,
   "metadata": {
    "collapsed": false
   },
   "outputs": [],
   "source": [
    "def get_url(url):\n",
    "    response = requests.get(url)\n",
    "    content = response.content.decode(\"utf8\")\n",
    "    return content\n",
    "\n",
    "def get_json_from_url(url):\n",
    "    content = get_url(url)\n",
    "    js = json.loads(content)\n",
    "    return js\n",
    "\n",
    "def get_updates():\n",
    "    url = URL + \"getUpdates\"\n",
    "    js = get_json_from_url(url)\n",
    "    return js\n",
    "\n",
    "def get_last_chat_id_and_text(updates):\n",
    "    num_updates = len(updates[\"result\"])\n",
    "    last_update = num_updates - 1\n",
    "    text = updates[\"result\"][last_update][\"message\"][\"text\"]\n",
    "    chat_id = updates[\"result\"][last_update][\"message\"][\"chat\"][\"id\"]\n",
    "    return (text, chat_id)\n",
    "    print (get_last_chat_id_and_text(updates))\n",
    "\n",
    "def send_message(text, chat_id):\n",
    "    url = URL + \"sendMessage?text={}&chat_id={}\".format(text, chat_id)\n",
    "    get_url(url)"
   ]
  },
  {
   "cell_type": "code",
   "execution_count": null,
   "metadata": {
    "collapsed": false
   },
   "outputs": [],
   "source": [
    "import time\n",
    "def main():\n",
    "    last_textchat = (None, None)\n",
    "    while True:\n",
    "        text, chat = get_last_chat_id_and_text(get_updates())\n",
    "        if (text, chat) != last_textchat:\n",
    "            send_message(text, chat)\n",
    "            last_textchat = (text, chat)\n",
    "        time.sleep(0.5)\n",
    "main()"
   ]
  },
  {
   "cell_type": "code",
   "execution_count": null,
   "metadata": {
    "collapsed": false
   },
   "outputs": [],
   "source": [
    "text, chat = get_last_chat_id_and_text(get_updates())\n",
    "#send_message(text, chat)\n",
    "print(chat)\n",
    "send_message(\"Hola!\", 4191538)"
   ]
  },
  {
   "cell_type": "code",
   "execution_count": null,
   "metadata": {
    "collapsed": true
   },
   "outputs": [],
   "source": []
  },
  {
   "cell_type": "code",
   "execution_count": null,
   "metadata": {
    "collapsed": true
   },
   "outputs": [],
   "source": []
  }
 ],
 "metadata": {
  "kernelspec": {
   "display_name": "Python 3",
   "language": "python",
   "name": "python3"
  },
  "language_info": {
   "codemirror_mode": {
    "name": "ipython",
    "version": 3
   },
   "file_extension": ".py",
   "mimetype": "text/x-python",
   "name": "python",
   "nbconvert_exporter": "python",
   "pygments_lexer": "ipython3",
   "version": "3.6.0"
  }
 },
 "nbformat": 4,
 "nbformat_minor": 2
}
