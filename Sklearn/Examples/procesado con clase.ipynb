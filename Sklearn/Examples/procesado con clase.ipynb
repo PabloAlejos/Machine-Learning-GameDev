{
 "cells": [
  {
   "cell_type": "markdown",
   "metadata": {},
   "source": [
    "### Pruebas entrenamiento clase"
   ]
  },
  {
   "cell_type": "code",
   "execution_count": 6,
   "metadata": {
    "collapsed": true
   },
   "outputs": [],
   "source": [
    "from sklearn.multioutput import MultiOutputClassifier\n",
    "from sklearn.ensemble import RandomForestClassifier\n",
    "from sklearn.datasets import make_classification\n",
    "from sklearn import preprocessing\n",
    "from sklearn.utils import shuffle\n",
    "from sklearn.multiclass import OneVsRestClassifier\n",
    "from sklearn.svm import LinearSVC\n",
    "import numpy as np\n",
    "import pandas as pd\n",
    "import pickle\n",
    "import itertools\n",
    "from collections import Counter"
   ]
  },
  {
   "cell_type": "code",
   "execution_count": 7,
   "metadata": {
    "collapsed": false
   },
   "outputs": [
    {
     "ename": "IndentationError",
     "evalue": "unindent does not match any outer indentation level (<ipython-input-7-d0d0e524d5e2>, line 56)",
     "output_type": "error",
     "traceback": [
      "\u001b[0;36m  File \u001b[0;32m\"<ipython-input-7-d0d0e524d5e2>\"\u001b[0;36m, line \u001b[0;32m56\u001b[0m\n\u001b[0;31m    def transformaDisparo(value):\u001b[0m\n\u001b[0m                                 ^\u001b[0m\n\u001b[0;31mIndentationError\u001b[0m\u001b[0;31m:\u001b[0m unindent does not match any outer indentation level\n"
     ]
    }
   ],
   "source": [
    "class trainter:\n",
    "\n",
    "\tdef __init__ (self):\n",
    "\t\tself.df = pd.DataFrame()\n",
    "\t\tself.train_data = pd.DataFrame()\n",
    "\t\tself.target_data = pd.DataFrame()\n",
    "\n",
    "\t#Carga el fichero con el nombre indicado y nombra las columnas\n",
    "\tdef load_file(self,fileName):\n",
    "\t\tself.df = pd.read_csv(fileName, sep=',', header=None)\n",
    "\t\tself.df.columns = ['timeStamp', 'Px', 'Py', 'heat', 'Exp1','Eyp1','Exp2','Eyp2', 'Ex1', 'Ey1', 'Eh1', 'Ex2', 'Ey2', 'Eh2', 'Ex3', 'Ey3', 'Eh3', 'Ex4', 'Ey4','Eh4','Ex5', 'Ey5','Eh5','Ex6', 'Ey6','Eh6',\"VKey\",\"HKey\",\"Shooting\"]\n",
    "\t\tself.df[['Eh1','Eh2','Eh3','Eh4','Eh5','Eh6']] = self.df[['Eh1','Eh2','Eh3','Eh4','Eh5','Eh6']].astype(float) \n",
    "\t\n",
    "\t#procesa las columnas correspondientes al traindata\n",
    "\tdef set_train_data(self,columns):\n",
    "\t\tt = self.df[columns].copy()\n",
    "\t\tenemiesInfo = t[['Ex1', 'Ey1', 'Ex2', 'Ey2', 'Ex3', 'Ey3','Ex4', 'Ey4','Ex5', 'Ey5','Ex6', 'Ey6','Eh1','Eh2','Eh3','Eh4','Eh5','Eh6']].copy()\n",
    "\t\totherInfo = enemiesInfo.drop(['Ex1', 'Ey1', 'Ex2', 'Ey2', 'Ex3', 'Ey3','Ex4', 'Ey4','Ex5', 'Ey5','Ex6', 'Ey6','Eh1','Eh2','Eh3','Eh4','Eh5','Eh6'], axis =1)\n",
    "\t\tenemiesInfo = enemiesInfo.apply(self.histo2DRow, axis = 1)\n",
    "\t\tprint(pd.concat([otherInfo,enemiesInfo]).head(2))\n",
    "\n",
    "\tdef save_train_data(self,fileName):\n",
    "\t\tnp.save(fileName,self.train_data)\n",
    "\n",
    "\tdef load_train_data(self,fileName):\n",
    "\t\tself.train_data = np.load(fileName)\n",
    "\n",
    "\tdef set_target_data(self,columns):\n",
    "\t\tself.target_data = self.df[columns].copy()\n",
    "\n",
    "\tdef histo2DRow(self,row):\n",
    "\t    x = row.filter(regex=('Ex'))\n",
    "\t    y = row.filter(regex=('Ey'))\n",
    "\t    w = row.filter(regex=('Eh'))\n",
    "\t    xedges = np.linspace(-2,2,5)\n",
    "\t    yedges = np.linspace(0,10,5)\n",
    "\t    if len(w >0):\n",
    "\t    \tH, xedges, yedges = np.histogram2d(x, y, bins=(xedges, yedges), weights=w)\n",
    "\t    else:\n",
    "\t    \tH, xedges, yedges = np.histogram2d(x, y, bins=(xedges, yedges))\n",
    "\t    H = H.T  # Let each row list bins with common y range.\n",
    "\t    return pd.Series(H.reshape(-1))\n",
    "\n",
    "\tdef renombrado(self,DataFrame,ejex,ejey):\n",
    "\t\tpass\n",
    "\n",
    "\n",
    "\tdef transformaEje(value):\n",
    "\t    if value == \"UpArrow\" or value == \"RightArrow\":\n",
    "\t        return 1\n",
    "\t    elif value == \"DownArrow\" or value == \"LeftArrow\":\n",
    "\t        return -1\n",
    "\t    else:\n",
    "\t        return 0\n",
    "        \n",
    "    def transformaDisparo(value):\n",
    "        if value:\n",
    "            return 1\n",
    "        else:\n",
    "            return 0\n",
    "    def __str__(self):\n",
    "        return str(self.df.head(2))"
   ]
  },
  {
   "cell_type": "code",
   "execution_count": 8,
   "metadata": {
    "collapsed": false
   },
   "outputs": [
    {
     "ename": "TypeError",
     "evalue": "(\"Cannot cast array data from dtype('O') to dtype('float64') according to the rule 'safe'\", 'occurred at index 0')",
     "output_type": "error",
     "traceback": [
      "\u001b[0;31m---------------------------------------------------------------------------\u001b[0m",
      "\u001b[0;31mTypeError\u001b[0m                                 Traceback (most recent call last)",
      "\u001b[0;32m<ipython-input-8-041aaa55fe4c>\u001b[0m in \u001b[0;36m<module>\u001b[0;34m()\u001b[0m\n\u001b[1;32m      1\u001b[0m \u001b[0mt\u001b[0m \u001b[1;33m=\u001b[0m \u001b[0mtrainter\u001b[0m\u001b[1;33m(\u001b[0m\u001b[1;33m)\u001b[0m\u001b[1;33m\u001b[0m\u001b[0m\n\u001b[1;32m      2\u001b[0m \u001b[0mt\u001b[0m\u001b[1;33m.\u001b[0m\u001b[0mload_file\u001b[0m\u001b[1;33m(\u001b[0m\u001b[1;34m'gameStates.csv'\u001b[0m\u001b[1;33m)\u001b[0m\u001b[1;33m\u001b[0m\u001b[0m\n\u001b[0;32m----> 3\u001b[0;31m \u001b[0mt\u001b[0m\u001b[1;33m.\u001b[0m\u001b[0mset_train_data\u001b[0m\u001b[1;33m(\u001b[0m\u001b[1;33m[\u001b[0m\u001b[1;34m'Px'\u001b[0m\u001b[1;33m,\u001b[0m \u001b[1;34m'Py'\u001b[0m\u001b[1;33m,\u001b[0m \u001b[1;34m'heat'\u001b[0m\u001b[1;33m,\u001b[0m \u001b[1;34m'Exp1'\u001b[0m\u001b[1;33m,\u001b[0m\u001b[1;34m'Eyp1'\u001b[0m\u001b[1;33m,\u001b[0m\u001b[1;34m'Exp2'\u001b[0m\u001b[1;33m,\u001b[0m\u001b[1;34m'Eyp2'\u001b[0m\u001b[1;33m,\u001b[0m \u001b[1;34m'Ex1'\u001b[0m\u001b[1;33m,\u001b[0m \u001b[1;34m'Ey1'\u001b[0m\u001b[1;33m,\u001b[0m \u001b[1;34m'Eh1'\u001b[0m\u001b[1;33m,\u001b[0m \u001b[1;34m'Ex2'\u001b[0m\u001b[1;33m,\u001b[0m \u001b[1;34m'Ey2'\u001b[0m\u001b[1;33m,\u001b[0m \u001b[1;34m'Eh2'\u001b[0m\u001b[1;33m,\u001b[0m \u001b[1;34m'Ex3'\u001b[0m\u001b[1;33m,\u001b[0m \u001b[1;34m'Ey3'\u001b[0m\u001b[1;33m,\u001b[0m \u001b[1;34m'Eh3'\u001b[0m\u001b[1;33m,\u001b[0m \u001b[1;34m'Ex4'\u001b[0m\u001b[1;33m,\u001b[0m \u001b[1;34m'Ey4'\u001b[0m\u001b[1;33m,\u001b[0m\u001b[1;34m'Eh4'\u001b[0m\u001b[1;33m,\u001b[0m\u001b[1;34m'Ex5'\u001b[0m\u001b[1;33m,\u001b[0m \u001b[1;34m'Ey5'\u001b[0m\u001b[1;33m,\u001b[0m\u001b[1;34m'Eh5'\u001b[0m\u001b[1;33m,\u001b[0m\u001b[1;34m'Ex6'\u001b[0m\u001b[1;33m,\u001b[0m \u001b[1;34m'Ey6'\u001b[0m\u001b[1;33m,\u001b[0m\u001b[1;34m'Eh6'\u001b[0m\u001b[1;33m]\u001b[0m\u001b[1;33m)\u001b[0m\u001b[1;33m\u001b[0m\u001b[0m\n\u001b[0m\u001b[1;32m      4\u001b[0m \u001b[0mt\u001b[0m\u001b[1;33m.\u001b[0m\u001b[0mset_target_data\u001b[0m\u001b[1;33m(\u001b[0m\u001b[1;33m[\u001b[0m\u001b[1;34m\"VKey\"\u001b[0m\u001b[1;33m,\u001b[0m\u001b[1;34m\"HKey\"\u001b[0m\u001b[1;33m,\u001b[0m\u001b[1;34m\"Shooting\"\u001b[0m\u001b[1;33m]\u001b[0m\u001b[1;33m)\u001b[0m\u001b[1;33m\u001b[0m\u001b[0m\n\u001b[1;32m      5\u001b[0m \u001b[0mprint\u001b[0m\u001b[1;33m(\u001b[0m\u001b[0mstr\u001b[0m\u001b[1;33m(\u001b[0m\u001b[0mt\u001b[0m\u001b[1;33m)\u001b[0m\u001b[1;33m)\u001b[0m\u001b[1;33m\u001b[0m\u001b[0m\n",
      "\u001b[0;32m<ipython-input-4-7980d04b0a6e>\u001b[0m in \u001b[0;36mset_train_data\u001b[0;34m(self, columns)\u001b[0m\n\u001b[1;32m     17\u001b[0m                 \u001b[0menemiesInfo\u001b[0m \u001b[1;33m=\u001b[0m \u001b[0mt\u001b[0m\u001b[1;33m[\u001b[0m\u001b[1;33m[\u001b[0m\u001b[1;34m'Ex1'\u001b[0m\u001b[1;33m,\u001b[0m \u001b[1;34m'Ey1'\u001b[0m\u001b[1;33m,\u001b[0m \u001b[1;34m'Ex2'\u001b[0m\u001b[1;33m,\u001b[0m \u001b[1;34m'Ey2'\u001b[0m\u001b[1;33m,\u001b[0m \u001b[1;34m'Ex3'\u001b[0m\u001b[1;33m,\u001b[0m \u001b[1;34m'Ey3'\u001b[0m\u001b[1;33m,\u001b[0m\u001b[1;34m'Ex4'\u001b[0m\u001b[1;33m,\u001b[0m \u001b[1;34m'Ey4'\u001b[0m\u001b[1;33m,\u001b[0m\u001b[1;34m'Ex5'\u001b[0m\u001b[1;33m,\u001b[0m \u001b[1;34m'Ey5'\u001b[0m\u001b[1;33m,\u001b[0m\u001b[1;34m'Ex6'\u001b[0m\u001b[1;33m,\u001b[0m \u001b[1;34m'Ey6'\u001b[0m\u001b[1;33m,\u001b[0m\u001b[1;34m'Eh1'\u001b[0m\u001b[1;33m,\u001b[0m\u001b[1;34m'Eh2'\u001b[0m\u001b[1;33m,\u001b[0m\u001b[1;34m'Eh3'\u001b[0m\u001b[1;33m,\u001b[0m\u001b[1;34m'Eh4'\u001b[0m\u001b[1;33m,\u001b[0m\u001b[1;34m'Eh5'\u001b[0m\u001b[1;33m,\u001b[0m\u001b[1;34m'Eh6'\u001b[0m\u001b[1;33m]\u001b[0m\u001b[1;33m]\u001b[0m\u001b[1;33m.\u001b[0m\u001b[0mcopy\u001b[0m\u001b[1;33m(\u001b[0m\u001b[1;33m)\u001b[0m\u001b[1;33m\u001b[0m\u001b[0m\n\u001b[1;32m     18\u001b[0m                 \u001b[0motherInfo\u001b[0m \u001b[1;33m=\u001b[0m \u001b[0menemiesInfo\u001b[0m\u001b[1;33m.\u001b[0m\u001b[0mdrop\u001b[0m\u001b[1;33m(\u001b[0m\u001b[1;33m[\u001b[0m\u001b[1;34m'Ex1'\u001b[0m\u001b[1;33m,\u001b[0m \u001b[1;34m'Ey1'\u001b[0m\u001b[1;33m,\u001b[0m \u001b[1;34m'Ex2'\u001b[0m\u001b[1;33m,\u001b[0m \u001b[1;34m'Ey2'\u001b[0m\u001b[1;33m,\u001b[0m \u001b[1;34m'Ex3'\u001b[0m\u001b[1;33m,\u001b[0m \u001b[1;34m'Ey3'\u001b[0m\u001b[1;33m,\u001b[0m\u001b[1;34m'Ex4'\u001b[0m\u001b[1;33m,\u001b[0m \u001b[1;34m'Ey4'\u001b[0m\u001b[1;33m,\u001b[0m\u001b[1;34m'Ex5'\u001b[0m\u001b[1;33m,\u001b[0m \u001b[1;34m'Ey5'\u001b[0m\u001b[1;33m,\u001b[0m\u001b[1;34m'Ex6'\u001b[0m\u001b[1;33m,\u001b[0m \u001b[1;34m'Ey6'\u001b[0m\u001b[1;33m,\u001b[0m\u001b[1;34m'Eh1'\u001b[0m\u001b[1;33m,\u001b[0m\u001b[1;34m'Eh2'\u001b[0m\u001b[1;33m,\u001b[0m\u001b[1;34m'Eh3'\u001b[0m\u001b[1;33m,\u001b[0m\u001b[1;34m'Eh4'\u001b[0m\u001b[1;33m,\u001b[0m\u001b[1;34m'Eh5'\u001b[0m\u001b[1;33m,\u001b[0m\u001b[1;34m'Eh6'\u001b[0m\u001b[1;33m]\u001b[0m\u001b[1;33m,\u001b[0m \u001b[0maxis\u001b[0m \u001b[1;33m=\u001b[0m\u001b[1;36m1\u001b[0m\u001b[1;33m)\u001b[0m\u001b[1;33m\u001b[0m\u001b[0m\n\u001b[0;32m---> 19\u001b[0;31m                 \u001b[0menemiesInfo\u001b[0m \u001b[1;33m=\u001b[0m \u001b[0menemiesInfo\u001b[0m\u001b[1;33m.\u001b[0m\u001b[0mapply\u001b[0m\u001b[1;33m(\u001b[0m\u001b[0mself\u001b[0m\u001b[1;33m.\u001b[0m\u001b[0mhisto2DRow\u001b[0m\u001b[1;33m,\u001b[0m \u001b[0maxis\u001b[0m \u001b[1;33m=\u001b[0m \u001b[1;36m1\u001b[0m\u001b[1;33m)\u001b[0m\u001b[1;33m\u001b[0m\u001b[0m\n\u001b[0m\u001b[1;32m     20\u001b[0m                 \u001b[0mprint\u001b[0m\u001b[1;33m(\u001b[0m\u001b[0mpd\u001b[0m\u001b[1;33m.\u001b[0m\u001b[0mconcat\u001b[0m\u001b[1;33m(\u001b[0m\u001b[1;33m[\u001b[0m\u001b[0motherInfo\u001b[0m\u001b[1;33m,\u001b[0m\u001b[0menemiesInfo\u001b[0m\u001b[1;33m]\u001b[0m\u001b[1;33m)\u001b[0m\u001b[1;33m.\u001b[0m\u001b[0mhead\u001b[0m\u001b[1;33m(\u001b[0m\u001b[1;36m2\u001b[0m\u001b[1;33m)\u001b[0m\u001b[1;33m)\u001b[0m\u001b[1;33m\u001b[0m\u001b[0m\n\u001b[1;32m     21\u001b[0m \u001b[1;33m\u001b[0m\u001b[0m\n",
      "\u001b[0;32mC:\\Users\\Pablo Alejos\\Anaconda3\\lib\\site-packages\\pandas\\core\\frame.py\u001b[0m in \u001b[0;36mapply\u001b[0;34m(self, func, axis, broadcast, raw, reduce, args, **kwds)\u001b[0m\n\u001b[1;32m   4150\u001b[0m                     \u001b[1;32mif\u001b[0m \u001b[0mreduce\u001b[0m \u001b[1;32mis\u001b[0m \u001b[1;32mNone\u001b[0m\u001b[1;33m:\u001b[0m\u001b[1;33m\u001b[0m\u001b[0m\n\u001b[1;32m   4151\u001b[0m                         \u001b[0mreduce\u001b[0m \u001b[1;33m=\u001b[0m \u001b[1;32mTrue\u001b[0m\u001b[1;33m\u001b[0m\u001b[0m\n\u001b[0;32m-> 4152\u001b[0;31m                     \u001b[1;32mreturn\u001b[0m \u001b[0mself\u001b[0m\u001b[1;33m.\u001b[0m\u001b[0m_apply_standard\u001b[0m\u001b[1;33m(\u001b[0m\u001b[0mf\u001b[0m\u001b[1;33m,\u001b[0m \u001b[0maxis\u001b[0m\u001b[1;33m,\u001b[0m \u001b[0mreduce\u001b[0m\u001b[1;33m=\u001b[0m\u001b[0mreduce\u001b[0m\u001b[1;33m)\u001b[0m\u001b[1;33m\u001b[0m\u001b[0m\n\u001b[0m\u001b[1;32m   4153\u001b[0m             \u001b[1;32melse\u001b[0m\u001b[1;33m:\u001b[0m\u001b[1;33m\u001b[0m\u001b[0m\n\u001b[1;32m   4154\u001b[0m                 \u001b[1;32mreturn\u001b[0m \u001b[0mself\u001b[0m\u001b[1;33m.\u001b[0m\u001b[0m_apply_broadcast\u001b[0m\u001b[1;33m(\u001b[0m\u001b[0mf\u001b[0m\u001b[1;33m,\u001b[0m \u001b[0maxis\u001b[0m\u001b[1;33m)\u001b[0m\u001b[1;33m\u001b[0m\u001b[0m\n",
      "\u001b[0;32mC:\\Users\\Pablo Alejos\\Anaconda3\\lib\\site-packages\\pandas\\core\\frame.py\u001b[0m in \u001b[0;36m_apply_standard\u001b[0;34m(self, func, axis, ignore_failures, reduce)\u001b[0m\n\u001b[1;32m   4246\u001b[0m             \u001b[1;32mtry\u001b[0m\u001b[1;33m:\u001b[0m\u001b[1;33m\u001b[0m\u001b[0m\n\u001b[1;32m   4247\u001b[0m                 \u001b[1;32mfor\u001b[0m \u001b[0mi\u001b[0m\u001b[1;33m,\u001b[0m \u001b[0mv\u001b[0m \u001b[1;32min\u001b[0m \u001b[0menumerate\u001b[0m\u001b[1;33m(\u001b[0m\u001b[0mseries_gen\u001b[0m\u001b[1;33m)\u001b[0m\u001b[1;33m:\u001b[0m\u001b[1;33m\u001b[0m\u001b[0m\n\u001b[0;32m-> 4248\u001b[0;31m                     \u001b[0mresults\u001b[0m\u001b[1;33m[\u001b[0m\u001b[0mi\u001b[0m\u001b[1;33m]\u001b[0m \u001b[1;33m=\u001b[0m \u001b[0mfunc\u001b[0m\u001b[1;33m(\u001b[0m\u001b[0mv\u001b[0m\u001b[1;33m)\u001b[0m\u001b[1;33m\u001b[0m\u001b[0m\n\u001b[0m\u001b[1;32m   4249\u001b[0m                     \u001b[0mkeys\u001b[0m\u001b[1;33m.\u001b[0m\u001b[0mappend\u001b[0m\u001b[1;33m(\u001b[0m\u001b[0mv\u001b[0m\u001b[1;33m.\u001b[0m\u001b[0mname\u001b[0m\u001b[1;33m)\u001b[0m\u001b[1;33m\u001b[0m\u001b[0m\n\u001b[1;32m   4250\u001b[0m             \u001b[1;32mexcept\u001b[0m \u001b[0mException\u001b[0m \u001b[1;32mas\u001b[0m \u001b[0me\u001b[0m\u001b[1;33m:\u001b[0m\u001b[1;33m\u001b[0m\u001b[0m\n",
      "\u001b[0;32m<ipython-input-4-7980d04b0a6e>\u001b[0m in \u001b[0;36mhisto2DRow\u001b[0;34m(self, row)\u001b[0m\n\u001b[1;32m     36\u001b[0m             \u001b[0myedges\u001b[0m \u001b[1;33m=\u001b[0m \u001b[0mnp\u001b[0m\u001b[1;33m.\u001b[0m\u001b[0mlinspace\u001b[0m\u001b[1;33m(\u001b[0m\u001b[1;36m0\u001b[0m\u001b[1;33m,\u001b[0m\u001b[1;36m10\u001b[0m\u001b[1;33m,\u001b[0m\u001b[1;36m5\u001b[0m\u001b[1;33m)\u001b[0m\u001b[1;33m\u001b[0m\u001b[0m\n\u001b[1;32m     37\u001b[0m             \u001b[1;32mif\u001b[0m \u001b[0mlen\u001b[0m\u001b[1;33m(\u001b[0m\u001b[0mw\u001b[0m \u001b[1;33m>\u001b[0m\u001b[1;36m0\u001b[0m\u001b[1;33m)\u001b[0m\u001b[1;33m:\u001b[0m\u001b[1;33m\u001b[0m\u001b[0m\n\u001b[0;32m---> 38\u001b[0;31m                 \u001b[0mH\u001b[0m\u001b[1;33m,\u001b[0m \u001b[0mxedges\u001b[0m\u001b[1;33m,\u001b[0m \u001b[0myedges\u001b[0m \u001b[1;33m=\u001b[0m \u001b[0mnp\u001b[0m\u001b[1;33m.\u001b[0m\u001b[0mhistogram2d\u001b[0m\u001b[1;33m(\u001b[0m\u001b[0mx\u001b[0m\u001b[1;33m,\u001b[0m \u001b[0my\u001b[0m\u001b[1;33m,\u001b[0m \u001b[0mbins\u001b[0m\u001b[1;33m=\u001b[0m\u001b[1;33m(\u001b[0m\u001b[0mxedges\u001b[0m\u001b[1;33m,\u001b[0m \u001b[0myedges\u001b[0m\u001b[1;33m)\u001b[0m\u001b[1;33m,\u001b[0m \u001b[0mweights\u001b[0m\u001b[1;33m=\u001b[0m\u001b[0mw\u001b[0m\u001b[1;33m)\u001b[0m\u001b[1;33m\u001b[0m\u001b[0m\n\u001b[0m\u001b[1;32m     39\u001b[0m             \u001b[1;32melse\u001b[0m\u001b[1;33m:\u001b[0m\u001b[1;33m\u001b[0m\u001b[0m\n\u001b[1;32m     40\u001b[0m                 \u001b[0mH\u001b[0m\u001b[1;33m,\u001b[0m \u001b[0mxedges\u001b[0m\u001b[1;33m,\u001b[0m \u001b[0myedges\u001b[0m \u001b[1;33m=\u001b[0m \u001b[0mnp\u001b[0m\u001b[1;33m.\u001b[0m\u001b[0mhistogram2d\u001b[0m\u001b[1;33m(\u001b[0m\u001b[0mx\u001b[0m\u001b[1;33m,\u001b[0m \u001b[0my\u001b[0m\u001b[1;33m,\u001b[0m \u001b[0mbins\u001b[0m\u001b[1;33m=\u001b[0m\u001b[1;33m(\u001b[0m\u001b[0mxedges\u001b[0m\u001b[1;33m,\u001b[0m \u001b[0myedges\u001b[0m\u001b[1;33m)\u001b[0m\u001b[1;33m)\u001b[0m\u001b[1;33m\u001b[0m\u001b[0m\n",
      "\u001b[0;32mC:\\Users\\Pablo Alejos\\Anaconda3\\lib\\site-packages\\numpy\\lib\\twodim_base.py\u001b[0m in \u001b[0;36mhistogram2d\u001b[0;34m(x, y, bins, range, normed, weights)\u001b[0m\n\u001b[1;32m    712\u001b[0m         \u001b[0mxedges\u001b[0m \u001b[1;33m=\u001b[0m \u001b[0myedges\u001b[0m \u001b[1;33m=\u001b[0m \u001b[0masarray\u001b[0m\u001b[1;33m(\u001b[0m\u001b[0mbins\u001b[0m\u001b[1;33m,\u001b[0m \u001b[0mfloat\u001b[0m\u001b[1;33m)\u001b[0m\u001b[1;33m\u001b[0m\u001b[0m\n\u001b[1;32m    713\u001b[0m         \u001b[0mbins\u001b[0m \u001b[1;33m=\u001b[0m \u001b[1;33m[\u001b[0m\u001b[0mxedges\u001b[0m\u001b[1;33m,\u001b[0m \u001b[0myedges\u001b[0m\u001b[1;33m]\u001b[0m\u001b[1;33m\u001b[0m\u001b[0m\n\u001b[0;32m--> 714\u001b[0;31m     \u001b[0mhist\u001b[0m\u001b[1;33m,\u001b[0m \u001b[0medges\u001b[0m \u001b[1;33m=\u001b[0m \u001b[0mhistogramdd\u001b[0m\u001b[1;33m(\u001b[0m\u001b[1;33m[\u001b[0m\u001b[0mx\u001b[0m\u001b[1;33m,\u001b[0m \u001b[0my\u001b[0m\u001b[1;33m]\u001b[0m\u001b[1;33m,\u001b[0m \u001b[0mbins\u001b[0m\u001b[1;33m,\u001b[0m \u001b[0mrange\u001b[0m\u001b[1;33m,\u001b[0m \u001b[0mnormed\u001b[0m\u001b[1;33m,\u001b[0m \u001b[0mweights\u001b[0m\u001b[1;33m)\u001b[0m\u001b[1;33m\u001b[0m\u001b[0m\n\u001b[0m\u001b[1;32m    715\u001b[0m     \u001b[1;32mreturn\u001b[0m \u001b[0mhist\u001b[0m\u001b[1;33m,\u001b[0m \u001b[0medges\u001b[0m\u001b[1;33m[\u001b[0m\u001b[1;36m0\u001b[0m\u001b[1;33m]\u001b[0m\u001b[1;33m,\u001b[0m \u001b[0medges\u001b[0m\u001b[1;33m[\u001b[0m\u001b[1;36m1\u001b[0m\u001b[1;33m]\u001b[0m\u001b[1;33m\u001b[0m\u001b[0m\n\u001b[1;32m    716\u001b[0m \u001b[1;33m\u001b[0m\u001b[0m\n",
      "\u001b[0;32mC:\\Users\\Pablo Alejos\\Anaconda3\\lib\\site-packages\\numpy\\lib\\function_base.py\u001b[0m in \u001b[0;36mhistogramdd\u001b[0;34m(sample, bins, range, normed, weights)\u001b[0m\n\u001b[1;32m    791\u001b[0m     \u001b[0mNcount\u001b[0m \u001b[1;33m=\u001b[0m \u001b[1;33m{\u001b[0m\u001b[1;33m}\u001b[0m\u001b[1;33m\u001b[0m\u001b[0m\n\u001b[1;32m    792\u001b[0m     \u001b[1;32mfor\u001b[0m \u001b[0mi\u001b[0m \u001b[1;32min\u001b[0m \u001b[0marange\u001b[0m\u001b[1;33m(\u001b[0m\u001b[0mD\u001b[0m\u001b[1;33m)\u001b[0m\u001b[1;33m:\u001b[0m\u001b[1;33m\u001b[0m\u001b[0m\n\u001b[0;32m--> 793\u001b[0;31m         \u001b[0mNcount\u001b[0m\u001b[1;33m[\u001b[0m\u001b[0mi\u001b[0m\u001b[1;33m]\u001b[0m \u001b[1;33m=\u001b[0m \u001b[0mdigitize\u001b[0m\u001b[1;33m(\u001b[0m\u001b[0msample\u001b[0m\u001b[1;33m[\u001b[0m\u001b[1;33m:\u001b[0m\u001b[1;33m,\u001b[0m \u001b[0mi\u001b[0m\u001b[1;33m]\u001b[0m\u001b[1;33m,\u001b[0m \u001b[0medges\u001b[0m\u001b[1;33m[\u001b[0m\u001b[0mi\u001b[0m\u001b[1;33m]\u001b[0m\u001b[1;33m)\u001b[0m\u001b[1;33m\u001b[0m\u001b[0m\n\u001b[0m\u001b[1;32m    794\u001b[0m \u001b[1;33m\u001b[0m\u001b[0m\n\u001b[1;32m    795\u001b[0m     \u001b[1;31m# Using digitize, values that fall on an edge are put in the right bin.\u001b[0m\u001b[1;33m\u001b[0m\u001b[1;33m\u001b[0m\u001b[0m\n",
      "\u001b[0;31mTypeError\u001b[0m: (\"Cannot cast array data from dtype('O') to dtype('float64') according to the rule 'safe'\", 'occurred at index 0')"
     ]
    }
   ],
   "source": [
    "t = trainter()\n",
    "t.load_file('gameStates.csv')\n",
    "t.set_train_data(['Px', 'Py', 'heat', 'Exp1','Eyp1','Exp2','Eyp2', 'Ex1', 'Ey1', 'Eh1', 'Ex2', 'Ey2', 'Eh2', 'Ex3', 'Ey3', 'Eh3', 'Ex4', 'Ey4','Eh4','Ex5', 'Ey5','Eh5','Ex6', 'Ey6','Eh6'])\n",
    "t.set_target_data([\"VKey\",\"HKey\",\"Shooting\"])\n",
    "print(str(t))"
   ]
  },
  {
   "cell_type": "code",
   "execution_count": null,
   "metadata": {
    "collapsed": true
   },
   "outputs": [],
   "source": []
  }
 ],
 "metadata": {
  "kernelspec": {
   "display_name": "Python 3",
   "language": "python",
   "name": "python3"
  },
  "language_info": {
   "codemirror_mode": {
    "name": "ipython",
    "version": 3
   },
   "file_extension": ".py",
   "mimetype": "text/x-python",
   "name": "python",
   "nbconvert_exporter": "python",
   "pygments_lexer": "ipython3",
   "version": "3.6.0"
  }
 },
 "nbformat": 4,
 "nbformat_minor": 2
}
