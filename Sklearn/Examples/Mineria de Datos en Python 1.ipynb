{
 "cells": [
  {
   "cell_type": "markdown",
   "metadata": {},
   "source": [
    "# Minería de Datos\n",
    "\n",
    "## Grado en Ingeniería Informática\n",
    "## Universidad de Burgos\n",
    "## José Francisco  Diez\n",
    "## Curso 2016-2017"
   ]
  },
  {
   "cell_type": "markdown",
   "metadata": {},
   "source": [
    "# Carga, almacenamiento y manipulación de datos: Numpy\n",
    "\n",
    "Los conjuntos de datos puede aparecer en multitud de formatos: documentos, imágenes, clips de audio, colecciones de valores numéricos etc. Pero a pesar de esta heterogeneidad todos los conjuntos de datos son fundamentalmente arrays de números.\n",
    "\n",
    "Almacenar y manipular arrays de números es fundamental para cualquier proceso de la minería de datos. Python tiene una librería especializada para hacer esto: NumPy.\n",
    "\n",
    "La mayoría del ecosistema de librerías Python de minería de datos usa Numpy, así que el conocimiento de Numpy es útil para cualquier tarea posterior.\n"
   ]
  },
  {
   "cell_type": "code",
   "execution_count": 1,
   "metadata": {
    "collapsed": true
   },
   "outputs": [],
   "source": [
    "import numpy as np # Se importa numpy con el alias np"
   ]
  },
  {
   "cell_type": "markdown",
   "metadata": {},
   "source": [
    "## Tipos de datos en python y en numpy\n",
    "\n",
    "Los tipos de datos en python son dinámicos. \n",
    "En C un entero es simplemente una etiqueta a una posición de memoria donde se encuentran los bytes que codifican el entero.\n",
    "En Python un entero es un puntero a un objeto que contiene el valor e información extra para permitir los tipos dinámicos. La flexibilidad de Python tiene un coste."
   ]
  },
  {
   "cell_type": "code",
   "execution_count": 2,
   "metadata": {
    "collapsed": false
   },
   "outputs": [
    {
     "data": {
      "text/plain": [
       "'Hola'"
      ]
     },
     "execution_count": 2,
     "metadata": {},
     "output_type": "execute_result"
    }
   ],
   "source": [
    "x = 10\n",
    "x = \"Hola\"\n",
    "x"
   ]
  },
  {
   "cell_type": "code",
   "execution_count": 3,
   "metadata": {
    "collapsed": true
   },
   "outputs": [],
   "source": [
    "lista = [True, \"2\", 3.0, 4]"
   ]
  },
  {
   "cell_type": "markdown",
   "metadata": {},
   "source": [
    "En Python una lista contiene las referencias a todos los objetos que la forman y cada objeto contiene mucha información además del dato.\n",
    "\n",
    "En NumPy todos los elementos de un array son del mismo tipo y se conoce el tamaño, y es mucho más eficiente.\n",
    "\n",
    "## Creando arrays\n",
    "\n",
    "Podemos crear un array de NumPy con **array** pasandole una lista de Python.\n",
    "\n",
    "Automáticamente crea el array del tipo de mayor nivel. \n",
    "\n",
    "Por ejemplo\n",
    "entero -> float -> string -> object\n",
    "\n",
    "Aunque se puede especificar en la construcción el tipo de los datos y se pueden transformar manualmente con el método **astype** que recibe el nombre de un tipo."
   ]
  },
  {
   "cell_type": "code",
   "execution_count": 4,
   "metadata": {
    "collapsed": false
   },
   "outputs": [
    {
     "data": {
      "text/plain": [
       "array([1, 4, 2, 5, 3])"
      ]
     },
     "execution_count": 4,
     "metadata": {},
     "output_type": "execute_result"
    }
   ],
   "source": [
    "#crea array de enteros\n",
    "np.array([1, 4, 2, 5, 3]) "
   ]
  },
  {
   "cell_type": "code",
   "execution_count": 5,
   "metadata": {
    "collapsed": false
   },
   "outputs": [
    {
     "data": {
      "text/plain": [
       "array([ 1.5,  4. ,  2. ,  5. ,  3. ])"
      ]
     },
     "execution_count": 5,
     "metadata": {},
     "output_type": "execute_result"
    }
   ],
   "source": [
    "#crea array de float (automaticamente al tipo de mayor nivel)\n",
    "np.array([1.5, 4, 2, 5, 3]) "
   ]
  },
  {
   "cell_type": "code",
   "execution_count": 6,
   "metadata": {
    "collapsed": false
   },
   "outputs": [
    {
     "data": {
      "text/plain": [
       "array([ 1.,  2.,  3.,  4.], dtype=float32)"
      ]
     },
     "execution_count": 6,
     "metadata": {},
     "output_type": "execute_result"
    }
   ],
   "source": [
    "# se puede especificar el tipo\n",
    "np.array([1, 2, 3, 4], dtype='float32') "
   ]
  },
  {
   "cell_type": "code",
   "execution_count": 7,
   "metadata": {
    "collapsed": false
   },
   "outputs": [
    {
     "name": "stdout",
     "output_type": "stream",
     "text": [
      "['1.1' '2.7' '3.4']\n",
      "[ 1.1  2.7  3.4]\n"
     ]
    }
   ],
   "source": [
    "#Se puede convertir un array de un tipo a otro con astype\n",
    "array1 = np.array([\"1.1\",\"2.7\",\"3.4\"])\n",
    "print(array1)\n",
    "array1 = array1.astype(np.float)\n",
    "print(array1)"
   ]
  },
  {
   "cell_type": "markdown",
   "metadata": {},
   "source": [
    "Además de poder crear arrays de NumPy pasando explicitamente una lista de Python, se pueden crear con distintas funciones:\n",
    "- **zeros** Crea un array de ceros\n",
    "- **ones** Crea un array de unos\n",
    "- **full** Crea un array repitiendo el valor indicado\n",
    "- **random** Crea un array aleatorio\n",
    "- **arange** Crea un array con una sucesión numérica (range)\n",
    "- **linspace** Crea un array con una sucesión numérica indicando inicio, fin y número de pasos"
   ]
  },
  {
   "cell_type": "code",
   "execution_count": 8,
   "metadata": {
    "collapsed": false
   },
   "outputs": [
    {
     "data": {
      "text/plain": [
       "array([0, 0, 0, 0, 0, 0, 0, 0, 0, 0])"
      ]
     },
     "execution_count": 8,
     "metadata": {},
     "output_type": "execute_result"
    }
   ],
   "source": [
    "# crea un array de 0s de tamaño 10\n",
    "np.zeros(10, dtype=int)"
   ]
  },
  {
   "cell_type": "code",
   "execution_count": 9,
   "metadata": {
    "collapsed": false
   },
   "outputs": [
    {
     "data": {
      "text/plain": [
       "array([[ 1.,  1.,  1.,  1.,  1.],\n",
       "       [ 1.,  1.,  1.,  1.,  1.],\n",
       "       [ 1.,  1.,  1.,  1.,  1.]])"
      ]
     },
     "execution_count": 9,
     "metadata": {},
     "output_type": "execute_result"
    }
   ],
   "source": [
    "# crea un array de 1s de tamaño 3x5\n",
    "np.ones((3, 5), dtype=float)"
   ]
  },
  {
   "cell_type": "code",
   "execution_count": 10,
   "metadata": {
    "collapsed": false
   },
   "outputs": [
    {
     "data": {
      "text/plain": [
       "array([[ 3.14,  3.14,  3.14,  3.14,  3.14],\n",
       "       [ 3.14,  3.14,  3.14,  3.14,  3.14],\n",
       "       [ 3.14,  3.14,  3.14,  3.14,  3.14]])"
      ]
     },
     "execution_count": 10,
     "metadata": {},
     "output_type": "execute_result"
    }
   ],
   "source": [
    "# crea un array de del valor especificado de tamaño 3x5\n",
    "np.full((3, 5), 3.14)"
   ]
  },
  {
   "cell_type": "code",
   "execution_count": 11,
   "metadata": {
    "collapsed": false
   },
   "outputs": [
    {
     "data": {
      "text/plain": [
       "array([[ 0.41861477,  0.54460178,  0.41935977],\n",
       "       [ 0.35406665,  0.49229349,  0.11617293],\n",
       "       [ 0.83686749,  0.68337869,  0.10237906]])"
      ]
     },
     "execution_count": 11,
     "metadata": {},
     "output_type": "execute_result"
    }
   ],
   "source": [
    "# crea un array con valores aleatorios. \n",
    "# Se podría especificar el tipo de distribución\n",
    "np.random.random((3, 3))"
   ]
  },
  {
   "cell_type": "code",
   "execution_count": 12,
   "metadata": {
    "collapsed": false
   },
   "outputs": [
    {
     "data": {
      "text/plain": [
       "array([ 0,  2,  4,  6,  8, 10, 12, 14, 16, 18])"
      ]
     },
     "execution_count": 12,
     "metadata": {},
     "output_type": "execute_result"
    }
   ],
   "source": [
    "# equivalente a range, se da inicio, fin e intervalo\n",
    "np.arange(0, 20, 2)"
   ]
  },
  {
   "cell_type": "code",
   "execution_count": 13,
   "metadata": {
    "collapsed": false
   },
   "outputs": [
    {
     "data": {
      "text/plain": [
       "array([ 0.  ,  0.25,  0.5 ,  0.75,  1.  ])"
      ]
     },
     "execution_count": 13,
     "metadata": {},
     "output_type": "execute_result"
    }
   ],
   "source": [
    "# equivalente a arange, pero se da inicio, fin y número de pasos\n",
    "np.linspace(0, 1, 5)"
   ]
  },
  {
   "cell_type": "markdown",
   "metadata": {},
   "source": [
    "## Propiedades de los arrays\n",
    "\n",
    "Los arrays tienen varias propiedades como su número de dimensiones, su forma, su tamaño total o el tipo de sus datos."
   ]
  },
  {
   "cell_type": "code",
   "execution_count": 14,
   "metadata": {
    "collapsed": false
   },
   "outputs": [],
   "source": [
    "x = np.random.random((3,4,5))\n"
   ]
  },
  {
   "cell_type": "code",
   "execution_count": 15,
   "metadata": {
    "collapsed": false
   },
   "outputs": [
    {
     "name": "stdout",
     "output_type": "stream",
     "text": [
      "Dimensiones x:  3\n",
      "forma x: (3, 4, 5)\n",
      "Tamaño total x:  60\n",
      "Tipo datos: float64\n"
     ]
    }
   ],
   "source": [
    "print(\"Dimensiones x: \", x.ndim)\n",
    "print(\"forma x:\", x.shape)\n",
    "print(\"Tamaño total x: \", x.size)\n",
    "print(\"Tipo datos:\", x.dtype)"
   ]
  },
  {
   "cell_type": "markdown",
   "metadata": {},
   "source": [
    "## Accesos. Indexing\n",
    "\n",
    "Hay distintas formas de acceder a los datos, algunas ya las hemos visto en otros lenguajes, como el acceso directo. \n",
    "- Directo\n",
    "- Slices\n",
    "- Máscaras booleanas\n",
    "- Fancy Indexing\n",
    "\n",
    "### Acceso directo\n",
    "\n",
    "Se proporciona un índice si el array es de una dimensión. Dos índices si es de dos dimensiones etc\n"
   ]
  },
  {
   "cell_type": "code",
   "execution_count": 16,
   "metadata": {
    "collapsed": false
   },
   "outputs": [
    {
     "name": "stdout",
     "output_type": "stream",
     "text": [
      "[10 11 12 13 14 15 16 17 18 19]\n",
      "12\n"
     ]
    }
   ],
   "source": [
    "x2 = np.array([[0,1,2,3,4,5,6,7,8,9],\n",
    "               [10,11,12,13,14,15,16,17,18,19],\n",
    "               [20,21,22,23,24,25,26,27,28,29]])\n",
    "# obtiene una fila\n",
    "print(x2[1]) \n",
    "# obtiene un valor\n",
    "print(x2[1,2]) #recuperar valores"
   ]
  },
  {
   "cell_type": "code",
   "execution_count": 17,
   "metadata": {
    "collapsed": true
   },
   "outputs": [],
   "source": [
    "# los accesos se usan también para modificar valores\n",
    "x2[1,2] = 24 "
   ]
  },
  {
   "cell_type": "markdown",
   "metadata": {},
   "source": [
    "### Slicing\n",
    "\n",
    "El acceso con slices se parece mucho a el uso de la función arange\n",
    "array[start:end:step]"
   ]
  },
  {
   "cell_type": "code",
   "execution_count": 18,
   "metadata": {
    "collapsed": false
   },
   "outputs": [
    {
     "name": "stdout",
     "output_type": "stream",
     "text": [
      "[0 1 2 3 4]\n",
      "[5 6 7 8 9]\n",
      "[0 2 4 6 8]\n",
      "[9 8 7 6 5 4 3 2 1 0]\n"
     ]
    }
   ],
   "source": [
    "print(x2[0][:5]) #desde el principio al 5\n",
    "print(x2[0][5:]) # del 5 al final\n",
    "print(x2[0][::2]) # todo, de dos en dos\n",
    "print(x2[0][::-1]) # todo, en orden inverso"
   ]
  },
  {
   "cell_type": "code",
   "execution_count": 19,
   "metadata": {
    "collapsed": false
   },
   "outputs": [
    {
     "name": "stdout",
     "output_type": "stream",
     "text": [
      "[[ 0  1  2]\n",
      " [10 11 24]]\n"
     ]
    }
   ],
   "source": [
    "print(x2[:2,:3]) #las dos primeras filas, las tres primeras columnas"
   ]
  },
  {
   "cell_type": "code",
   "execution_count": 20,
   "metadata": {
    "collapsed": false
   },
   "outputs": [
    {
     "name": "stdout",
     "output_type": "stream",
     "text": [
      "[[29 28 27 26 25 24 23 22 21 20]\n",
      " [19 18 17 16 15 14 13 24 11 10]\n",
      " [ 9  8  7  6  5  4  3  2  1  0]]\n"
     ]
    }
   ],
   "source": [
    "print(x2[::-1,::-1]) #invierto el orden de filas y de columnas"
   ]
  },
  {
   "cell_type": "code",
   "execution_count": 21,
   "metadata": {
    "collapsed": false
   },
   "outputs": [
    {
     "name": "stdout",
     "output_type": "stream",
     "text": [
      "[ 0 10 20]\n",
      "[0 1 2 3 4 5 6 7 8 9]\n"
     ]
    }
   ],
   "source": [
    "print(x2[:,0]) # columna en el indice 0. Todas las filas, pero solo columna 1\n",
    "print(x2[0,:]) # lo mismo que x2[0] "
   ]
  },
  {
   "cell_type": "markdown",
   "metadata": {},
   "source": [
    "### Máscara booleana\n",
    "\n",
    "En los accesos con máscara booleana primero tenemos que conseguir un array de booleanos. Que lo podemos conseguir aplicando una operación booleana al array.\n",
    "\n",
    "\n",
    "Ejemplo con range y multiplos de 5"
   ]
  },
  {
   "cell_type": "code",
   "execution_count": 22,
   "metadata": {
    "collapsed": false
   },
   "outputs": [
    {
     "data": {
      "text/plain": [
       "array([ 0,  1,  2,  3,  4,  5,  6,  7,  8,  9, 10, 11, 12, 13, 14, 15, 16,\n",
       "       17, 18, 19, 20, 21, 22, 23, 24, 25, 26, 27, 28, 29])"
      ]
     },
     "execution_count": 22,
     "metadata": {},
     "output_type": "execute_result"
    }
   ],
   "source": [
    "x = np.arange(30)\n",
    "x"
   ]
  },
  {
   "cell_type": "code",
   "execution_count": 23,
   "metadata": {
    "collapsed": false
   },
   "outputs": [
    {
     "data": {
      "text/plain": [
       "array([ True, False, False, False, False,  True, False, False, False,\n",
       "       False,  True, False, False, False, False,  True, False, False,\n",
       "       False, False,  True, False, False, False, False,  True, False,\n",
       "       False, False, False], dtype=bool)"
      ]
     },
     "execution_count": 23,
     "metadata": {},
     "output_type": "execute_result"
    }
   ],
   "source": [
    "x % 5 ==0"
   ]
  },
  {
   "cell_type": "code",
   "execution_count": 24,
   "metadata": {
    "collapsed": false
   },
   "outputs": [
    {
     "data": {
      "text/plain": [
       "array([ 0,  5, 10, 15, 20, 25])"
      ]
     },
     "execution_count": 24,
     "metadata": {},
     "output_type": "execute_result"
    }
   ],
   "source": [
    "#Ese array booleano se usa como indices para acceder a los valores\n",
    "x[x % 5 ==0]\n"
   ]
  },
  {
   "cell_type": "code",
   "execution_count": 25,
   "metadata": {
    "collapsed": false
   },
   "outputs": [
    {
     "data": {
      "text/plain": [
       "array([ 1,  2,  3,  4,  6,  7,  8,  9, 11, 12, 13, 14, 16, 17, 18, 19, 21,\n",
       "       22, 23, 24, 26, 27, 28, 29])"
      ]
     },
     "execution_count": 25,
     "metadata": {},
     "output_type": "execute_result"
    }
   ],
   "source": [
    "# Con el símbolo ~ (alt + ñ teclado español) podemos sacar el opuesto\n",
    "x[~(x % 5 ==0)]"
   ]
  },
  {
   "cell_type": "markdown",
   "metadata": {},
   "source": [
    "### Fancy Indexing\n",
    "\n",
    "En fancy indexing en lugar de pasar índices, pasamos un array que contiene los índices.\n"
   ]
  },
  {
   "cell_type": "code",
   "execution_count": 26,
   "metadata": {
    "collapsed": false
   },
   "outputs": [
    {
     "data": {
      "text/plain": [
       "array([[ 0,  1,  2,  3,  4,  5,  6,  7,  8,  9],\n",
       "       [20, 21, 22, 23, 24, 25, 26, 27, 28, 29],\n",
       "       [10, 11, 24, 13, 14, 15, 16, 17, 18, 19]])"
      ]
     },
     "execution_count": 26,
     "metadata": {},
     "output_type": "execute_result"
    }
   ],
   "source": [
    "# ejemplo, primero la fila 0, luego la 2 y luego la 1\n",
    "ind = [0,2,1]\n",
    "x2[ind]"
   ]
  },
  {
   "cell_type": "code",
   "execution_count": 27,
   "metadata": {
    "collapsed": false
   },
   "outputs": [
    {
     "name": "stdout",
     "output_type": "stream",
     "text": [
      "[[ 0  1  2  3  4  5  6  7  8  9]\n",
      " [10 11 24 13 14 15 16 17 18 19]\n",
      " [20 21 22 23 24 25 26 27 28 29]]\n"
     ]
    },
    {
     "data": {
      "text/plain": [
       "array([ 0,  1, 11, 22])"
      ]
     },
     "execution_count": 27,
     "metadata": {},
     "output_type": "execute_result"
    }
   ],
   "source": [
    "# Se puede incluso acceder a valores individuales en un array 2D con\n",
    "# un array para filas y otro para columnas\n",
    "\n",
    "print(x2)\n",
    "\n",
    "fils = [0,0,1,2]\n",
    "cols = [0,1,1,2]\n",
    "x2[fils,cols]"
   ]
  },
  {
   "cell_type": "markdown",
   "metadata": {},
   "source": [
    "### Combinación de distintos típos de indexado\n",
    "\n",
    "Los distintos tipos de indexado se pueden combinar entre si de cualquier manera.\n",
    "\n",
    "Ejemplo Directo para las filas + fancy para las columnas"
   ]
  },
  {
   "cell_type": "code",
   "execution_count": 28,
   "metadata": {
    "collapsed": false
   },
   "outputs": [
    {
     "data": {
      "text/plain": [
       "array([23, 22, 21])"
      ]
     },
     "execution_count": 28,
     "metadata": {},
     "output_type": "execute_result"
    }
   ],
   "source": [
    "# de la tercera fila, los valores en posiciones 3, 2 y 1\n",
    "x2[2,[3, 2, 1]]"
   ]
  },
  {
   "cell_type": "markdown",
   "metadata": {},
   "source": [
    "#### Modificando partes de un array \n",
    "\n",
    "Trabajando con conjuntos muy grandes, se puede acceder a un trozo,\n",
    "modificar ese trozo y dicha modificación se refleja en el conjunto completo sin tener que copiar nuevamente los datos. \n",
    "\n",
    "Si no queremos que esto ocurra tenemos que hacer una copia con **copy**"
   ]
  },
  {
   "cell_type": "code",
   "execution_count": 29,
   "metadata": {
    "collapsed": false
   },
   "outputs": [
    {
     "data": {
      "text/plain": [
       "array([[50,  1,  2,  3,  4,  5,  6,  7,  8,  9],\n",
       "       [10, 11, 24, 13, 14, 15, 16, 17, 18, 19],\n",
       "       [20, 21, 22, 23, 24, 25, 26, 27, 28, 29]])"
      ]
     },
     "execution_count": 29,
     "metadata": {},
     "output_type": "execute_result"
    }
   ],
   "source": [
    "\n",
    "x2peque = x2[:2,:3]\n",
    "x2peque[0,0]=50\n",
    "x2"
   ]
  },
  {
   "cell_type": "code",
   "execution_count": 30,
   "metadata": {
    "collapsed": false
   },
   "outputs": [
    {
     "data": {
      "text/plain": [
       "array([[50,  1,  2,  3,  4,  5,  6,  7,  8,  9],\n",
       "       [10, 11, 24, 13, 14, 15, 16, 17, 18, 19],\n",
       "       [20, 21, 22, 23, 24, 25, 26, 27, 28, 29]])"
      ]
     },
     "execution_count": 30,
     "metadata": {},
     "output_type": "execute_result"
    }
   ],
   "source": [
    "# pero si queremos podemos hacer copias\n",
    "x2pequeCopy = x2[:2,:3].copy()\n",
    "x2pequeCopy[0,0]=0\n",
    "x2"
   ]
  },
  {
   "cell_type": "markdown",
   "metadata": {},
   "source": [
    "## Reshaping\n",
    "\n",
    "En ocasiones los datos nos van a llegar en una forma y vamos a tener que cambiarla antes de poder aplicar operaciones o métodos de minería de datos.\n",
    "\n",
    "Con **reshape** vamos a poder cambiar un array a cualquier forma siempre y cuando el número de elementos siga siendo igual al producto de los tamaño de las dimensiones "
   ]
  },
  {
   "cell_type": "code",
   "execution_count": 31,
   "metadata": {
    "collapsed": false
   },
   "outputs": [],
   "source": [
    "# número de elementos = 24\n",
    "x3 = np.arange(24)\n"
   ]
  },
  {
   "cell_type": "code",
   "execution_count": 32,
   "metadata": {
    "collapsed": false
   },
   "outputs": [
    {
     "data": {
      "text/plain": [
       "array([[ 0,  1,  2,  3,  4,  5,  6,  7,  8,  9, 10, 11],\n",
       "       [12, 13, 14, 15, 16, 17, 18, 19, 20, 21, 22, 23]])"
      ]
     },
     "execution_count": 32,
     "metadata": {},
     "output_type": "execute_result"
    }
   ],
   "source": [
    "# dimensión 1 = 2, dimensión 2 = 12. \n",
    "# 2 x 12 = 24 (ok)\n",
    "x3.reshape(2,12)"
   ]
  },
  {
   "cell_type": "code",
   "execution_count": 33,
   "metadata": {
    "collapsed": false
   },
   "outputs": [
    {
     "data": {
      "text/plain": [
       "array([[[ 0,  1,  2,  3],\n",
       "        [ 4,  5,  6,  7],\n",
       "        [ 8,  9, 10, 11]],\n",
       "\n",
       "       [[12, 13, 14, 15],\n",
       "        [16, 17, 18, 19],\n",
       "        [20, 21, 22, 23]]])"
      ]
     },
     "execution_count": 33,
     "metadata": {},
     "output_type": "execute_result"
    }
   ],
   "source": [
    "x3.reshape(2,3,4)"
   ]
  },
  {
   "cell_type": "code",
   "execution_count": 34,
   "metadata": {
    "collapsed": false
   },
   "outputs": [
    {
     "data": {
      "text/plain": [
       "array([[ 0,  1,  2],\n",
       "       [ 3,  4,  5],\n",
       "       [ 6,  7,  8],\n",
       "       [ 9, 10, 11],\n",
       "       [12, 13, 14],\n",
       "       [15, 16, 17],\n",
       "       [18, 19, 20],\n",
       "       [21, 22, 23]])"
      ]
     },
     "execution_count": 34,
     "metadata": {},
     "output_type": "execute_result"
    }
   ],
   "source": [
    "x3.reshape(8,3)"
   ]
  },
  {
   "cell_type": "code",
   "execution_count": 35,
   "metadata": {
    "collapsed": false
   },
   "outputs": [],
   "source": [
    "x4 = np.array([1,2,3,4])"
   ]
  },
  {
   "cell_type": "code",
   "execution_count": 36,
   "metadata": {
    "collapsed": false
   },
   "outputs": [
    {
     "data": {
      "text/plain": [
       "array([[1, 2],\n",
       "       [3, 4]])"
      ]
     },
     "execution_count": 36,
     "metadata": {},
     "output_type": "execute_result"
    }
   ],
   "source": [
    "x4.reshape(2,2)"
   ]
  },
  {
   "cell_type": "markdown",
   "metadata": {},
   "source": [
    "Una cosa interesante es que algunas de las dimensiones pueden ser de tamaño 1.\n",
    "\n",
    "Mientras se mantenga que el producto de las dimensiones sea igual al tamaño total no hay problema"
   ]
  },
  {
   "cell_type": "code",
   "execution_count": 37,
   "metadata": {
    "collapsed": false
   },
   "outputs": [
    {
     "data": {
      "text/plain": [
       "array([[[1, 2],\n",
       "        [3, 4]]])"
      ]
     },
     "execution_count": 37,
     "metadata": {},
     "output_type": "execute_result"
    }
   ],
   "source": [
    "\n",
    "x4.reshape(1,2,2) "
   ]
  },
  {
   "cell_type": "code",
   "execution_count": 38,
   "metadata": {
    "collapsed": false
   },
   "outputs": [
    {
     "data": {
      "text/plain": [
       "array([[[1],\n",
       "        [2]],\n",
       "\n",
       "       [[3],\n",
       "        [4]]])"
      ]
     },
     "execution_count": 38,
     "metadata": {},
     "output_type": "execute_result"
    }
   ],
   "source": [
    "x4.reshape(2,2,1)"
   ]
  },
  {
   "cell_type": "code",
   "execution_count": 39,
   "metadata": {
    "collapsed": false
   },
   "outputs": [
    {
     "data": {
      "text/plain": [
       "array([[[1, 2]],\n",
       "\n",
       "       [[3, 4]]])"
      ]
     },
     "execution_count": 39,
     "metadata": {},
     "output_type": "execute_result"
    }
   ],
   "source": [
    "x4.reshape(2,1,2)"
   ]
  },
  {
   "cell_type": "markdown",
   "metadata": {},
   "source": [
    "## Juntar y dividir\n",
    "\n",
    "Otras operaciones que pueden ser necesarias antes de poder aplicar cualquier algoritmo a los datos es juntar datos de varias fuentes o dividirlos."
   ]
  },
  {
   "cell_type": "markdown",
   "metadata": {},
   "source": [
    "### Juntar\n",
    "\n",
    "Existen principalmente dos timpos de operaciones:\n",
    "- Arrays de las mismas dimensiones (concatenate, append)\n",
    "- Arrays de distintas dimensiones (vstack y hstack)\n"
   ]
  },
  {
   "cell_type": "code",
   "execution_count": 40,
   "metadata": {
    "collapsed": false
   },
   "outputs": [
    {
     "data": {
      "text/plain": [
       "array([ 1,  2,  3,  3,  2,  1, 10, 10, 10])"
      ]
     },
     "execution_count": 40,
     "metadata": {},
     "output_type": "execute_result"
    }
   ],
   "source": [
    "a = np.array([1, 2, 3])\n",
    "b = np.array([3, 2, 1])\n",
    "c = np.array([10, 10, 10])\n",
    "np.concatenate([a,b,c])"
   ]
  },
  {
   "cell_type": "code",
   "execution_count": 41,
   "metadata": {
    "collapsed": false
   },
   "outputs": [
    {
     "data": {
      "text/plain": [
       "array([[1, 2, 3],\n",
       "       [4, 5, 6],\n",
       "       [1, 2, 3],\n",
       "       [4, 5, 6]])"
      ]
     },
     "execution_count": 41,
     "metadata": {},
     "output_type": "execute_result"
    }
   ],
   "source": [
    "grid2d = np.array([[1, 2, 3],\n",
    "                   [4, 5, 6]])\n",
    "np.concatenate([grid2d,grid2d]) # por defecto axis 0 (filas)"
   ]
  },
  {
   "cell_type": "code",
   "execution_count": 42,
   "metadata": {
    "collapsed": false
   },
   "outputs": [
    {
     "data": {
      "text/plain": [
       "array([[1, 2, 3, 1, 2, 3],\n",
       "       [4, 5, 6, 4, 5, 6]])"
      ]
     },
     "execution_count": 42,
     "metadata": {},
     "output_type": "execute_result"
    }
   ],
   "source": [
    "np.concatenate([grid2d,grid2d],axis=1)"
   ]
  },
  {
   "cell_type": "markdown",
   "metadata": {},
   "source": [
    "Append y concatenate son equivalentes. Concatenate recibe una lista de elementos a concatenar. Append recibe los elementos a concatenar directamente como argumentos.\n"
   ]
  },
  {
   "cell_type": "code",
   "execution_count": 43,
   "metadata": {
    "collapsed": false
   },
   "outputs": [
    {
     "data": {
      "text/plain": [
       "array([[1, 2, 3, 1, 2, 3],\n",
       "       [4, 5, 6, 4, 5, 6]])"
      ]
     },
     "execution_count": 43,
     "metadata": {},
     "output_type": "execute_result"
    }
   ],
   "source": [
    "np.append(grid2d,grid2d,axis=1)"
   ]
  },
  {
   "cell_type": "code",
   "execution_count": 44,
   "metadata": {
    "collapsed": false
   },
   "outputs": [
    {
     "data": {
      "text/plain": [
       "array([[1, 2, 3],\n",
       "       [4, 5, 6],\n",
       "       [1, 2, 3],\n",
       "       [4, 5, 6]])"
      ]
     },
     "execution_count": 44,
     "metadata": {},
     "output_type": "execute_result"
    }
   ],
   "source": [
    "np.append(grid2d,grid2d,axis=0)"
   ]
  },
  {
   "cell_type": "markdown",
   "metadata": {},
   "source": [
    "Para concatenar con arrays de distintas dimensiones se usa vstack y hstack"
   ]
  },
  {
   "cell_type": "code",
   "execution_count": 45,
   "metadata": {
    "collapsed": false
   },
   "outputs": [
    {
     "data": {
      "text/plain": [
       "array([[1, 2, 3],\n",
       "       [9, 8, 7],\n",
       "       [6, 5, 4]])"
      ]
     },
     "execution_count": 45,
     "metadata": {},
     "output_type": "execute_result"
    }
   ],
   "source": [
    "\n",
    "\n",
    "x = np.array([1, 2, 3])\n",
    "grid2d = np.array([[9, 8, 7],\n",
    "                   [6, 5, 4]])\n",
    "np.vstack([x, grid2d])"
   ]
  },
  {
   "cell_type": "markdown",
   "metadata": {},
   "source": [
    "Aunque otra forma de hacerlo sería añadir dimensiones a uno de los elementos simplemente metiendolo dentro de una lista."
   ]
  },
  {
   "cell_type": "code",
   "execution_count": 46,
   "metadata": {
    "collapsed": false
   },
   "outputs": [
    {
     "data": {
      "text/plain": [
       "array([[1, 2, 3],\n",
       "       [9, 8, 7],\n",
       "       [6, 5, 4]])"
      ]
     },
     "execution_count": 46,
     "metadata": {},
     "output_type": "execute_result"
    }
   ],
   "source": [
    "# Solo con concatenate se podrian hacer todas las operaciones de unión\n",
    "np.concatenate([[x], grid2d])"
   ]
  },
  {
   "cell_type": "markdown",
   "metadata": {},
   "source": [
    "### Dividir\n",
    "\n",
    "La operación inversa a la unión es la división. Se puede conseguir con el método **split**.\n",
    "\n",
    "A split se le pasa un array a dividir y una lista de índices con los puntos finales de cada trozo."
   ]
  },
  {
   "cell_type": "code",
   "execution_count": 47,
   "metadata": {
    "collapsed": false
   },
   "outputs": [
    {
     "data": {
      "text/plain": [
       "[array([0, 1, 2]), array([3, 4]), array([5, 6, 7, 8, 9])]"
      ]
     },
     "execution_count": 47,
     "metadata": {},
     "output_type": "execute_result"
    }
   ],
   "source": [
    "# Split, devueltre trozos\n",
    "x = range(10)\n",
    "# hasta el 3, del 3 al 5 y el resto\n",
    "np.split(x,[3,5])"
   ]
  },
  {
   "cell_type": "code",
   "execution_count": 48,
   "metadata": {
    "collapsed": false
   },
   "outputs": [
    {
     "data": {
      "text/plain": [
       "[array([0, 1, 2]), array([3, 4]), array([5, 6, 7, 8]), array([9])]"
      ]
     },
     "execution_count": 48,
     "metadata": {},
     "output_type": "execute_result"
    }
   ],
   "source": [
    "# hasta el 3, del 3 al 5, del 5 al 9, el resto\n",
    "np.split(x,[3,5,9])"
   ]
  },
  {
   "cell_type": "markdown",
   "metadata": {},
   "source": [
    "## Universal Functions UFuncs\n",
    "\n",
    "Para muchas operaciones, NumPy proporciona operaciones vectorizadas. Estas operaciones se puede aplicar a todos los elementos de un array con una sola instrucción, que además proporciona una ejecución más rápida.\n",
    "\n",
    "- numéricas: +,-,\\*,\\*\\*,abs\n",
    "- booleanas: <, >, ==\n",
    "- trigonometicas, logaritmicas, exponenciales ..."
   ]
  },
  {
   "cell_type": "code",
   "execution_count": 49,
   "metadata": {
    "collapsed": false
   },
   "outputs": [
    {
     "name": "stdout",
     "output_type": "stream",
     "text": [
      "[1 2 3 4]\n",
      "[10 20 30 40]\n"
     ]
    }
   ],
   "source": [
    "# a y b son dos arrays de una dimensión y tamaño 4\n",
    "a = np.arange(1,5)\n",
    "b = np.arange(10,50,10)\n",
    "print(a)\n",
    "print(b)"
   ]
  },
  {
   "cell_type": "code",
   "execution_count": 50,
   "metadata": {
    "collapsed": false
   },
   "outputs": [
    {
     "name": "stdout",
     "output_type": "stream",
     "text": [
      "[3 4 5 6]\n",
      "[-3 -2 -1  0]\n",
      "[ 1.5  3.   4.5  6. ]\n",
      "[ 1  4  9 16]\n",
      "[11 22 33 44]\n"
     ]
    }
   ],
   "source": [
    "print(a + 2)\n",
    "print(a - 4)\n",
    "print(a * 1.5)\n",
    "print(a **2)\n",
    "print(a + b)"
   ]
  },
  {
   "cell_type": "code",
   "execution_count": 51,
   "metadata": {
    "collapsed": false
   },
   "outputs": [
    {
     "data": {
      "text/plain": [
       "array([-5, -4, -3, -2, -1,  0,  1,  2,  3,  4])"
      ]
     },
     "execution_count": 51,
     "metadata": {},
     "output_type": "execute_result"
    }
   ],
   "source": [
    "c = np.arange(-5,5)\n",
    "c"
   ]
  },
  {
   "cell_type": "code",
   "execution_count": 52,
   "metadata": {
    "collapsed": false
   },
   "outputs": [
    {
     "data": {
      "text/plain": [
       "array([5, 4, 3, 2, 1, 0, 1, 2, 3, 4])"
      ]
     },
     "execution_count": 52,
     "metadata": {},
     "output_type": "execute_result"
    }
   ],
   "source": [
    "abs(c)"
   ]
  },
  {
   "cell_type": "code",
   "execution_count": 53,
   "metadata": {
    "collapsed": false
   },
   "outputs": [
    {
     "data": {
      "text/plain": [
       "array([False, False, False,  True,  True,  True,  True,  True, False, False], dtype=bool)"
      ]
     },
     "execution_count": 53,
     "metadata": {},
     "output_type": "execute_result"
    }
   ],
   "source": [
    "## Booleanas\n",
    "abs(c) < 3"
   ]
  },
  {
   "cell_type": "markdown",
   "metadata": {},
   "source": [
    "Aparte de las explicadas, hay funciones trigonométricas, logaritmos, exponenciales etc\n",
    "\n",
    "Aunque es exactamente lo mismo. Con **vectorize** podemos crear nuestras propias funciones vectorizadas que se apliquen de una sola instrucción sobre todos los elementos de 1 o más arrays."
   ]
  },
  {
   "cell_type": "code",
   "execution_count": 54,
   "metadata": {
    "collapsed": false
   },
   "outputs": [
    {
     "data": {
      "text/plain": [
       "array([ 0,  0,  0,  0,  0,  0,  1,  4,  9, 16])"
      ]
     },
     "execution_count": 54,
     "metadata": {},
     "output_type": "execute_result"
    }
   ],
   "source": [
    "# Ejemplo una función vectorizada que recibe un solo argumento\n",
    "f = lambda x: 0 if x<0 else x**2\n",
    "fVec = np.vectorize(f)\n",
    "fVec(c)"
   ]
  },
  {
   "cell_type": "code",
   "execution_count": 55,
   "metadata": {
    "collapsed": false
   },
   "outputs": [
    {
     "data": {
      "text/plain": [
       "array([[ 15.14,  27.14,  39.14],\n",
       "       [ 16.14,  28.14,  40.14]])"
      ]
     },
     "execution_count": 55,
     "metadata": {},
     "output_type": "execute_result"
    }
   ],
   "source": [
    "# Ejemplo, una función vectorizada que recibe 2 argumentos\n",
    "\n",
    "a1 = np.array([[10,20,30],[11,21,31]])\n",
    "a2 = np.array([2,4,6])\n",
    "\n",
    "\n",
    "f2 = lambda x,y: x+y+3.14\n",
    "fVec2 = np.vectorize(f2)\n",
    "\n",
    "'''\n",
    "Estoy aplicando una función \n",
    "a dos arrays de tamaño diferente y funciona !!!!\n",
    "'''\n",
    "fVec2(a1,a2) \n"
   ]
  },
  {
   "cell_type": "markdown",
   "metadata": {},
   "source": [
    "### Broadcasting \n",
    "\n",
    "Una característica clave de las UFunct es que vamos a poder operar sobre arrays de distinto tamaño pero compatible.\n",
    "\n",
    "Las reglas de la compatibilidad son:\n",
    "- El tamaño de cada dimensión tiene que ser igual o tiene que ser 1"
   ]
  },
  {
   "cell_type": "code",
   "execution_count": 56,
   "metadata": {
    "collapsed": false
   },
   "outputs": [
    {
     "name": "stdout",
     "output_type": "stream",
     "text": [
      "2D\n",
      "[[ 1  2  3  4]\n",
      " [11 12 13 14]]\n",
      "Vertical\n",
      "[[10]\n",
      " [ 0]]\n",
      "Horizontal\n",
      "[9 8 7 6]\n",
      "2D + (1x1)\n",
      "[[11 12 13 14]\n",
      " [21 22 23 24]]\n",
      "2D + (2x1)\n",
      "[[11 12 13 14]\n",
      " [11 12 13 14]]\n",
      "2D + (1x4)\n",
      "[[10 10 10 10]\n",
      " [20 20 20 20]]\n"
     ]
    }
   ],
   "source": [
    "a2d = np.array([[1,2,3,4],[11,12,13,14]]) # 2 x 4\n",
    "\n",
    "\n",
    "\n",
    "\n",
    "aVertical = np.array([[10],[0]]) # 2 x 1 (igual alto, ancho 1)\n",
    "aHorizontal = np.array([9,8,7,6]) # 1 x 4 (igual ancho, alto 1)\n",
    "\n",
    "print(\"2D\")\n",
    "print(a2d)\n",
    "print(\"Vertical\")\n",
    "print(aVertical)\n",
    "print(\"Horizontal\")\n",
    "print(aHorizontal)\n",
    "\n",
    "print(\"2D + (1x1)\")\n",
    "print(a2d+10) # 1 x 1\n",
    "print(\"2D + (2x1)\")\n",
    "print(a2d+aVertical)\n",
    "print(\"2D + (1x4)\")\n",
    "print(a2d+aHorizontal)"
   ]
  },
  {
   "cell_type": "markdown",
   "metadata": {},
   "source": [
    "## Agregaciones \n",
    "\n",
    "Otro conjunto de métodos interesantes son las agregaciones.\n",
    "Toman un array y devuelven un único valor."
   ]
  },
  {
   "cell_type": "code",
   "execution_count": 57,
   "metadata": {
    "collapsed": false
   },
   "outputs": [
    {
     "data": {
      "text/plain": [
       "array([ 0.18827863,  0.93745326,  0.40357804,  0.50345884,  0.06970806,\n",
       "        0.86416436,  0.25648466,  0.3821168 ,  0.97798006,  0.46840431])"
      ]
     },
     "execution_count": 57,
     "metadata": {},
     "output_type": "execute_result"
    }
   ],
   "source": [
    "randArray = np.random.random(10)\n",
    "randArray"
   ]
  },
  {
   "cell_type": "code",
   "execution_count": 58,
   "metadata": {
    "collapsed": false
   },
   "outputs": [
    {
     "name": "stdout",
     "output_type": "stream",
     "text": [
      "Máximo : 0.97798006238\n",
      "Mínimo : 0.0697080568201\n",
      "Media : 0.505162702466\n",
      "Suma : 5.05162702466\n"
     ]
    }
   ],
   "source": [
    "print(\"Máximo :\",np.max(randArray)) \n",
    "print(\"Mínimo :\",np.min(randArray))\n",
    "print(\"Media :\",np.mean(randArray))\n",
    "print(\"Suma :\",np.sum(randArray))"
   ]
  },
  {
   "cell_type": "markdown",
   "metadata": {},
   "source": [
    "Más funciones de agregación como median, std, var etc\n",
    "\n",
    "También hay dos funciones de agregación booleana:\n",
    "- any True si algun elemento es True\n",
    "- all True si todos los elementos son True"
   ]
  },
  {
   "cell_type": "code",
   "execution_count": 59,
   "metadata": {
    "collapsed": false
   },
   "outputs": [
    {
     "data": {
      "text/plain": [
       "array([False, False, False, False,  True,  True,  True,  True,  True,  True], dtype=bool)"
      ]
     },
     "execution_count": 59,
     "metadata": {},
     "output_type": "execute_result"
    }
   ],
   "source": [
    "mayorQue3 = np.arange(10) >3\n",
    "mayorQue3"
   ]
  },
  {
   "cell_type": "code",
   "execution_count": 60,
   "metadata": {
    "collapsed": false
   },
   "outputs": [
    {
     "data": {
      "text/plain": [
       "True"
      ]
     },
     "execution_count": 60,
     "metadata": {},
     "output_type": "execute_result"
    }
   ],
   "source": [
    "np.any(mayorQue3)"
   ]
  },
  {
   "cell_type": "code",
   "execution_count": 61,
   "metadata": {
    "collapsed": false
   },
   "outputs": [
    {
     "data": {
      "text/plain": [
       "False"
      ]
     },
     "execution_count": 61,
     "metadata": {},
     "output_type": "execute_result"
    }
   ],
   "source": [
    "np.all(mayorQue3)"
   ]
  },
  {
   "cell_type": "code",
   "execution_count": 62,
   "metadata": {
    "collapsed": false
   },
   "outputs": [
    {
     "data": {
      "text/plain": [
       "6"
      ]
     },
     "execution_count": 62,
     "metadata": {},
     "output_type": "execute_result"
    }
   ],
   "source": [
    "# los True cuenta como 1, así que podemos contarlos\n",
    "np.sum(mayorQue3)"
   ]
  },
  {
   "cell_type": "markdown",
   "metadata": {},
   "source": [
    "### Sorting\n",
    "\n",
    "Aunque Python ya tiene una función sort(), al trabajar con NumPy es recomendable usar np.sort. \n",
    "Es más eficiente y usa quicksort, aunque se le puede pedir que use mergesort o heapsort.\n",
    "\n",
    "- **sort** devuelve un array ordenado\n",
    "- **argsort** devuelve el índice del elemento que ocuparía cada posicion en el vector ordenado"
   ]
  },
  {
   "cell_type": "code",
   "execution_count": 63,
   "metadata": {
    "collapsed": false
   },
   "outputs": [
    {
     "name": "stdout",
     "output_type": "stream",
     "text": [
      "[1 4 3 7 8 2]\n",
      "[1 2 3 4 7 8]\n",
      "[0 5 2 1 3 4]\n"
     ]
    }
   ],
   "source": [
    "a = np.array([1,4,3,7,8,2])\n",
    "print(a)\n",
    "print(np.sort(a))\n",
    "print(np.argsort(a))"
   ]
  },
  {
   "cell_type": "markdown",
   "metadata": {},
   "source": [
    "[0 5 2 1 3 4] ->\n",
    "El primer elemento es el 0, luego el del index 5, luego el del index 2 ..."
   ]
  },
  {
   "cell_type": "code",
   "execution_count": 64,
   "metadata": {
    "collapsed": false
   },
   "outputs": [
    {
     "name": "stdout",
     "output_type": "stream",
     "text": [
      "[[6 3 7 4 6 9]\n",
      " [2 6 7 4 3 7]\n",
      " [7 2 5 4 1 7]\n",
      " [5 1 4 0 9 5]]\n"
     ]
    }
   ],
   "source": [
    "# Ejemplo creo un array 2D de 4x6 \n",
    "\n",
    "# se inicializa random con una semilla fija \n",
    "# para que siempre sean los mismos valores\n",
    "rand = np.random.RandomState(42) \n",
    "X = rand.randint(0, 10, (4, 6))\n",
    "print(X)"
   ]
  },
  {
   "cell_type": "markdown",
   "metadata": {},
   "source": [
    "Con arrays de varias dimensiones podemos especificar cual es el eje en el que se ordenará"
   ]
  },
  {
   "cell_type": "code",
   "execution_count": 65,
   "metadata": {
    "collapsed": false
   },
   "outputs": [
    {
     "data": {
      "text/plain": [
       "array([[2, 1, 4, 0, 1, 5],\n",
       "       [5, 2, 5, 4, 3, 7],\n",
       "       [6, 3, 7, 4, 6, 7],\n",
       "       [7, 6, 7, 4, 9, 9]])"
      ]
     },
     "execution_count": 65,
     "metadata": {},
     "output_type": "execute_result"
    }
   ],
   "source": [
    "np.sort(X, axis=0) # ordena los valores en filas"
   ]
  },
  {
   "cell_type": "code",
   "execution_count": 66,
   "metadata": {
    "collapsed": false
   },
   "outputs": [
    {
     "data": {
      "text/plain": [
       "array([[3, 4, 6, 6, 7, 9],\n",
       "       [2, 3, 4, 6, 7, 7],\n",
       "       [1, 2, 4, 5, 7, 7],\n",
       "       [0, 1, 4, 5, 5, 9]])"
      ]
     },
     "execution_count": 66,
     "metadata": {},
     "output_type": "execute_result"
    }
   ],
   "source": [
    "np.sort(X,axis=1) # ordena los valores en columnas"
   ]
  },
  {
   "cell_type": "markdown",
   "metadata": {},
   "source": [
    "#### Particiones \n",
    "\n",
    "A veces no queremos ordenar completamente el array, pero queremos una manera rápida de encontrar los k menores elementos.\n",
    "\n",
    "NumPy proporciona esto con **np.partition**.\n",
    "\n",
    "El método **np.partition** toma un array y un número k y devuelve el array parcialmente ordenado con los K menores valores a la izquierda y el resto a la derecha\n",
    "\n",
    "\n"
   ]
  },
  {
   "cell_type": "code",
   "execution_count": 67,
   "metadata": {
    "collapsed": false
   },
   "outputs": [
    {
     "data": {
      "text/plain": [
       "array([ 4,  3,  5,  6,  7,  8,  8, 12, 10])"
      ]
     },
     "execution_count": 67,
     "metadata": {},
     "output_type": "execute_result"
    }
   ],
   "source": [
    "b = np.array([10,4,3,7,8,12,5,8,6])\n",
    "np.partition(b, 3)\n"
   ]
  },
  {
   "cell_type": "code",
   "execution_count": 68,
   "metadata": {
    "collapsed": false
   },
   "outputs": [
    {
     "data": {
      "text/plain": [
       "array([1, 2, 6, 8, 3, 7, 4, 5, 0])"
      ]
     },
     "execution_count": 68,
     "metadata": {},
     "output_type": "execute_result"
    }
   ],
   "source": [
    "np.argpartition(b, 3)"
   ]
  },
  {
   "cell_type": "markdown",
   "metadata": {},
   "source": [
    "\n",
    "# Ejercicios\n",
    "\n",
    "1. Bodyfat, estadisticas de distintos atributos\n",
    "2. Bodyfat, estadisticas de distintos atributos por edades.\n",
    "    - Solo de personas entre 18 y 35 años \n",
    "    - A intervalos de 10 años. 0-10, 10-20, 20-30 ...\n",
    "3. predecir con 3 vecinos más cercanos la grasa del primer individuo suponiendo que no lo supiesemos\n",
    "\n",
    "\n",
    "## Ejercicio 1\n",
    "\n",
    "Cargar los datos y obtener las estadísticas.\n",
    "Vamos a usar Pandas para leer el csv.\n",
    "\n",
    "```Python\n",
    "values = df.values # values es un array de NumPy\n",
    "ages = values[:,0]\n",
    "weights = values[:,1]\n",
    "height = values[:,2]\n",
    "fat = values[:,13]\n",
    "```\n",
    "\n",
    "Ojo que el primer valor de ages, weights y los demás es el nombre del atributo.\n",
    "\n",
    "Habría que quitarlo y convertir los datos a float antes de hacer las estadísticas.\n"
   ]
  },
  {
   "cell_type": "code",
   "execution_count": 69,
   "metadata": {
    "collapsed": false
   },
   "outputs": [
    {
     "data": {
      "text/html": [
       "<div>\n",
       "<table border=\"1\" class=\"dataframe\">\n",
       "  <thead>\n",
       "    <tr style=\"text-align: right;\">\n",
       "      <th></th>\n",
       "      <th>0</th>\n",
       "      <th>1</th>\n",
       "      <th>2</th>\n",
       "      <th>3</th>\n",
       "      <th>4</th>\n",
       "      <th>5</th>\n",
       "      <th>6</th>\n",
       "      <th>7</th>\n",
       "      <th>8</th>\n",
       "      <th>9</th>\n",
       "      <th>10</th>\n",
       "      <th>11</th>\n",
       "      <th>12</th>\n",
       "      <th>13</th>\n",
       "    </tr>\n",
       "  </thead>\n",
       "  <tbody>\n",
       "    <tr>\n",
       "      <th>0</th>\n",
       "      <td>Age</td>\n",
       "      <td>Weight</td>\n",
       "      <td>Height</td>\n",
       "      <td>Neck</td>\n",
       "      <td>Chest</td>\n",
       "      <td>Abdomen</td>\n",
       "      <td>Hip</td>\n",
       "      <td>Thigh</td>\n",
       "      <td>Knee</td>\n",
       "      <td>Ankle</td>\n",
       "      <td>Biceps</td>\n",
       "      <td>Forearm</td>\n",
       "      <td>Wrist</td>\n",
       "      <td>Fat_Percent</td>\n",
       "    </tr>\n",
       "    <tr>\n",
       "      <th>1</th>\n",
       "      <td>23</td>\n",
       "      <td>154.25</td>\n",
       "      <td>67.75</td>\n",
       "      <td>36.2</td>\n",
       "      <td>93.1</td>\n",
       "      <td>85.2</td>\n",
       "      <td>94.5</td>\n",
       "      <td>59</td>\n",
       "      <td>37.3</td>\n",
       "      <td>21.9</td>\n",
       "      <td>32</td>\n",
       "      <td>27.4</td>\n",
       "      <td>17.1</td>\n",
       "      <td>12.27</td>\n",
       "    </tr>\n",
       "    <tr>\n",
       "      <th>2</th>\n",
       "      <td>22</td>\n",
       "      <td>173.25</td>\n",
       "      <td>72.25</td>\n",
       "      <td>38.5</td>\n",
       "      <td>93.6</td>\n",
       "      <td>83</td>\n",
       "      <td>98.7</td>\n",
       "      <td>58.7</td>\n",
       "      <td>37.3</td>\n",
       "      <td>23.4</td>\n",
       "      <td>30.5</td>\n",
       "      <td>28.9</td>\n",
       "      <td>18.2</td>\n",
       "      <td>6.10</td>\n",
       "    </tr>\n",
       "    <tr>\n",
       "      <th>3</th>\n",
       "      <td>22</td>\n",
       "      <td>154</td>\n",
       "      <td>66.25</td>\n",
       "      <td>34</td>\n",
       "      <td>95.8</td>\n",
       "      <td>87.9</td>\n",
       "      <td>99.2</td>\n",
       "      <td>59.6</td>\n",
       "      <td>38.9</td>\n",
       "      <td>24</td>\n",
       "      <td>28.8</td>\n",
       "      <td>25.2</td>\n",
       "      <td>16.6</td>\n",
       "      <td>25.32</td>\n",
       "    </tr>\n",
       "    <tr>\n",
       "      <th>4</th>\n",
       "      <td>24</td>\n",
       "      <td>210.25</td>\n",
       "      <td>74.75</td>\n",
       "      <td>39</td>\n",
       "      <td>104.5</td>\n",
       "      <td>94.4</td>\n",
       "      <td>107.8</td>\n",
       "      <td>66</td>\n",
       "      <td>42</td>\n",
       "      <td>25.6</td>\n",
       "      <td>35.7</td>\n",
       "      <td>30.6</td>\n",
       "      <td>18.8</td>\n",
       "      <td>21.34</td>\n",
       "    </tr>\n",
       "  </tbody>\n",
       "</table>\n",
       "</div>"
      ],
      "text/plain": [
       "    0       1       2     3      4        5      6      7     8      9   \\\n",
       "0  Age  Weight  Height  Neck  Chest  Abdomen    Hip  Thigh  Knee  Ankle   \n",
       "1   23  154.25   67.75  36.2   93.1     85.2   94.5     59  37.3   21.9   \n",
       "2   22  173.25   72.25  38.5   93.6       83   98.7   58.7  37.3   23.4   \n",
       "3   22     154   66.25    34   95.8     87.9   99.2   59.6  38.9     24   \n",
       "4   24  210.25   74.75    39  104.5     94.4  107.8     66    42   25.6   \n",
       "\n",
       "       10       11     12           13  \n",
       "0  Biceps  Forearm  Wrist  Fat_Percent  \n",
       "1      32     27.4   17.1        12.27  \n",
       "2    30.5     28.9   18.2         6.10  \n",
       "3    28.8     25.2   16.6        25.32  \n",
       "4    35.7     30.6   18.8        21.34  "
      ]
     },
     "execution_count": 69,
     "metadata": {},
     "output_type": "execute_result"
    }
   ],
   "source": [
    "import pandas as pd\n",
    "df=pd.read_csv('BodyFat.csv', sep=',',header=None)\n",
    "df.head()\n"
   ]
  },
  {
   "cell_type": "markdown",
   "metadata": {},
   "source": [
    "## Ejercicio 2\n",
    "- Solo de personas entre 18 y 35 años \n",
    "\n",
    "Usa la selección con máscara booleana\n"
   ]
  },
  {
   "cell_type": "markdown",
   "metadata": {},
   "source": [
    "## Ejercicio 2\n",
    "- A intervalos de 10 años. 0-10, 10-20, 20-30\n",
    "\n",
    "Con **arange** o **linspace** se puede crear el array con los límites de cada intervalo\n",
    "\n",
    "Usar la selección con máscara booleana para cada uno de los intervalos"
   ]
  },
  {
   "cell_type": "markdown",
   "metadata": {},
   "source": [
    "## Ejercicio 3\n",
    "\n",
    "Con esto se obtienen todos los datos sin tener en cuenta el nombre de los atributos\n",
    "```Python\n",
    "values[1:].astype(np.float)\n",
    "```\n",
    "\n",
    "Habría que:\n",
    "- Separar los datos en atributos (X) y clase (y). Usando lo que hemos visto de slices\n",
    "- Normalizar X obteniendo el mínimo, el máximo y el rango.\n",
    "    - (Recuerda que see pueden obtener estos valores de todos atributos a la vez)\n",
    "- Obtener un array de distancias de cada instancia a la primera.\n",
    "    - Se obtiene restando X normalizado de cada una de las filas de X normalizado, haciendo el valor absoluto y sumando las distancias en cada uno de los atributos.\n",
    "- Encontrar las k instancias con distancias menores usando **argpartition**\n"
   ]
  }
 ],
 "metadata": {
  "anaconda-cloud": {},
  "kernelspec": {
   "display_name": "Python [default]",
   "language": "python",
   "name": "python3"
  },
  "language_info": {
   "codemirror_mode": {
    "name": "ipython",
    "version": 3
   },
   "file_extension": ".py",
   "mimetype": "text/x-python",
   "name": "python",
   "nbconvert_exporter": "python",
   "pygments_lexer": "ipython3",
   "version": "3.5.2"
  }
 },
 "nbformat": 4,
 "nbformat_minor": 0
}
