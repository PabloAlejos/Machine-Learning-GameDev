{
 "cells": [
  {
   "cell_type": "code",
   "execution_count": 1,
   "metadata": {
    "collapsed": true
   },
   "outputs": [],
   "source": [
    "import pandas as pd"
   ]
  },
  {
   "cell_type": "code",
   "execution_count": 6,
   "metadata": {
    "collapsed": false
   },
   "outputs": [],
   "source": [
    "class instancia:\n",
    "\n",
    "\tdef __init__(self):\n",
    "        \n",
    "\t\tdummyDf = pd.DataFrame(['0000', '999', '999', '999', '999','999','999','999', '999', '999', '999', '999', '999', '999', '999', '999', '999', '999', '999','999','999', '999','999','999', '999','999'])\n",
    "\t\tdummyDf2 = pd.DataFrame(['0000', '999', '999', '999', '999','999','999','999', '999', '999', '999', '999', '999', '999', '999', '999', '999', '999', '999','999','999', '999','999','999', '999','999'])\n",
    "\t\tdummyDf3 = pd.DataFrame(['0000', '999', '999', '999', '999','999','999','999', '999', '999', '999', '999', '999', '999', '999', '999', '999', '999', '999','999','999', '999','999','999', '999','999'])\n",
    "\n",
    "\t\tself.df = pd.concat([dummyDf,dummyDf2,dummyDf3],axis=0)\n",
    "\n",
    "\tdef encolar(self, estado):\n",
    "        df.drop[]\n",
    "        \n",
    "\tdef desencolar(self):\n",
    "\t\ttry:\n",
    "\t\t\treturn self.items.get()\n",
    "\t\texcept:\n",
    "\t\t\traise ValueError(\"La cola está vacía\")\n",
    "\n",
    "\tdef get(self):\n",
    "\t\treturn self.desencolar()"
   ]
  },
  {
   "cell_type": "code",
   "execution_count": 9,
   "metadata": {
    "collapsed": false
   },
   "outputs": [
    {
     "name": "stdout",
     "output_type": "stream",
     "text": [
      "       0\n",
      "0   0000\n",
      "1    999\n",
      "2    999\n",
      "3    999\n",
      "4    999\n",
      "5    999\n",
      "6    999\n",
      "7    999\n",
      "8    999\n",
      "9    999\n",
      "10   999\n",
      "11   999\n",
      "12   999\n",
      "13   999\n",
      "14   999\n",
      "15   999\n",
      "16   999\n",
      "17   999\n",
      "18   999\n",
      "19   999\n",
      "20   999\n",
      "21   999\n",
      "22   999\n",
      "23   999\n",
      "24   999\n",
      "25   999\n",
      "0   1111\n",
      "1    999\n",
      "2    999\n",
      "3    999\n",
      "..   ...\n",
      "22   999\n",
      "23   999\n",
      "24   999\n",
      "25   999\n",
      "0   2222\n",
      "1    999\n",
      "2    999\n",
      "3    999\n",
      "4    999\n",
      "5    999\n",
      "6    999\n",
      "7    999\n",
      "8    999\n",
      "9    999\n",
      "10   999\n",
      "11   999\n",
      "12   999\n",
      "13   999\n",
      "14   999\n",
      "15   999\n",
      "16   999\n",
      "17   999\n",
      "18   999\n",
      "19   999\n",
      "20   999\n",
      "21   999\n",
      "22   999\n",
      "23   999\n",
      "24   999\n",
      "25   999\n",
      "\n",
      "[78 rows x 1 columns]\n"
     ]
    }
   ],
   "source": [
    "i = instancia()\n",
    "print(i.items)"
   ]
  },
  {
   "cell_type": "code",
   "execution_count": null,
   "metadata": {
    "collapsed": true
   },
   "outputs": [],
   "source": []
  },
  {
   "cell_type": "code",
   "execution_count": null,
   "metadata": {
    "collapsed": true
   },
   "outputs": [],
   "source": []
  }
 ],
 "metadata": {
  "kernelspec": {
   "display_name": "Python 3",
   "language": "python",
   "name": "python3"
  },
  "language_info": {
   "codemirror_mode": {
    "name": "ipython",
    "version": 3
   },
   "file_extension": ".py",
   "mimetype": "text/x-python",
   "name": "python",
   "nbconvert_exporter": "python",
   "pygments_lexer": "ipython3",
   "version": "3.6.0"
  }
 },
 "nbformat": 4,
 "nbformat_minor": 2
}
